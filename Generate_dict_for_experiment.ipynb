{
 "cells": [
  {
   "cell_type": "markdown",
   "metadata": {},
   "source": [
    "# Welcome \n",
    "\n",
    "Welcome to the script for generating parameter dictionaries for the recording sessions in your experiment folder. Please follow the upcoming steps in this notebook for further instructions. \n",
    "\n",
    "## 1) Import the packages required for running the script\n",
    "\n",
    "Please run the block of code to import the Python packages that are required for running the rest of this script. "
   ]
  },
  {
   "cell_type": "code",
   "execution_count": null,
   "metadata": {},
   "outputs": [],
   "source": [
    "#Import required packages\n",
    "import pickle\n",
    "import os\n",
    "from utils.load_probe_info import load_probe_info\n",
    "import ipywidgets\n",
    "from ipywidgets import Layout, HBox, VBox\n",
    "from IPython.display import display"
   ]
  },
  {
   "cell_type": "markdown",
   "metadata": {},
   "source": [
    "## 2) Enter general parameters for the experiment."
   ]
  },
  {
   "cell_type": "code",
   "execution_count": null,
   "metadata": {},
   "outputs": [],
   "source": [
    "#Creating widgets for the user input on the general parameters for the experiment\n",
    "\n",
    "##Main path for the data \n",
    "mp_html = ipywidgets.HTML(value = \"<p><b>Path to the data of the experiment:</b><br />Enter the path to the folder (with no '/' at the end) that is hierarchically right above the folders of the recording sessions</p>\")\n",
    "mp = ipywidgets.Text(value = \"\", placeholder = \"Enter path for data\", disabled = False)\n",
    "display(VBox([mp_html, mp]))\n",
    "\n",
    "##Sampling rate\n",
    "sr = ipywidgets.IntText(value = 30000, disabled = False)\n",
    "display(VBox([ipywidgets.HTML(value = \"<b> Sampling rate (Hz): </b>\"),sr]))\n",
    "\n",
    "##File format\n",
    "ff_html = ipywidgets.HTML(value = \"<p><b>File format:</b><br />(dat for .dat, cont for .continuous, rhd for .rhd)</p>\")\n",
    "ff = ipywidgets.Text(value = 'dat', placeholder = 'Enter file format',\n",
    "             disabled = False)\n",
    "display(VBox([ff_html,ff]))\n",
    "\n",
    "##Number of probes\n",
    "np_html = ipywidgets.HTML(value = \"<p><b>Number of probes:</b><br /><b>WARNING:</b>Pipeline currently supports <b>ONLY</b> the multiple probes being <b>IDENTICAL</b> in type and mapping!!! Pipeline has to be updated before using multiple probes of different types!</p>\")\n",
    "np = ipywidgets.IntText(value = 1, disabled = False)\n",
    "display(VBox([np_html, np]))\n",
    "\n",
    "##Probe info\n",
    "pi_html = ipywidgets.HTML(value = \"<b>Type of the probe used in the experiment</b>\")\n",
    "pi = ipywidgets.Dropdown(options=['a4x8_5mm_100_200_177', 'a3x8_5mm_100_200_177', 'a4x4_tet_150_200_1212', 'a2x16_10mm_100_500_177'], \n",
    "                   value = 'a2x16_10mm_100_500_177',  disabled = False)\n",
    "display(VBox([pi_html, pi]))\n",
    "\n",
    "##To make sure that only one of the analysis algorithms will be conducted through a pipeline, one method can be selected at a time; otherwise  'main.py' will execute both of them whenever it is called.\n",
    "analysis_method_html = ipywidgets.RadioButtons(\n",
    "    options = ['LFP Analysis', 'Spike Sorting'],\n",
    "    value = 'LFP Analysis',\n",
    "    disabled = False)\n",
    "display(VBox([\n",
    "    ipywidgets.HTML(\"<b>Select a analysis method: </b>\"),\n",
    "    ipywidgets.HTML(\"To make sure that only one of the analysis algorithms will be conducted through a pipeline, one method can be selected at a time; otherwise  'main.py' will execute both of them whenever it is called.\"),\n",
    "    analysis_method_html]))\n"
   ]
  },
  {
   "cell_type": "markdown",
   "metadata": {
    "collapsed": true
   },
   "source": [
    "## 3) Enter parameters related to the analysis method"
   ]
  },
  {
   "cell_type": "code",
   "execution_count": null,
   "metadata": {},
   "outputs": [],
   "source": [
    "if(analysis_method_html.value == 'LFP Analysis'):\n",
    "    #Creating widgets for the user input on the parameters related to the evoked LFP analysis\n",
    "\n",
    "    ##evokedPre\n",
    "    epre = ipywidgets.FloatText(value = 0.025, disabled = False)\n",
    "    display(VBox([ipywidgets.HTML(value = \"<b>Enter time taken prior to the stimulus trigger (in s)</b>\"), epre]))\n",
    "\n",
    "    ##evokedPost\n",
    "    epost = ipywidgets.FloatText(value = 0.100, disabled = False)\n",
    "    display(VBox([ipywidgets.HTML(value = \"<b>Enter time taken post the stimulus trigger (in s)</b>\"), epost]))\n",
    "\n",
    "    #Filter type\n",
    "    filter_type_html = ipywidgets.RadioButtons(\n",
    "        options = ['Low pass filter', 'Band pass filter'],\n",
    "        value = 'Low pass filter',\n",
    "        disabled = False)\n",
    "    display(VBox([ipywidgets.HTML(\n",
    "        value = \"<b>Select a filter type:</b>\"), \n",
    "                  filter_type_html]))\n",
    "\n",
    "    #High cutoff frequency\n",
    "    hp = ipywidgets.FloatText(value = 300, disabled = False)\n",
    "    display(VBox([ipywidgets.HTML(value = \"<b> Enter the high cutoff frequency of the the filter you selected above to extract LFP from data (in Hz)</b>\"), \n",
    "                  hp]))\n",
    "\n",
    "    #Low cutoff frequency\n",
    "    lp = ipywidgets.FloatText(\n",
    "        value = 80,\n",
    "        disabled = False)\n",
    "    display(VBox([ipywidgets.HTML(value = \"<b> Enter the low cutoff frequency of the band pass filter (if you'll use band pass filter) to extract LFP from data (in Hz)</b>\"),\n",
    "                 lp]))\n",
    "    \n",
    "    #Down sample\n",
    "    down_sample_html = ipywidgets.Checkbox(\n",
    "    value=False,\n",
    "    description='Down Sample the Data',\n",
    "    disabled=False\n",
    "    )\n",
    "    display(VBox([ipywidgets.HTML(value = \"<b> Check the box if you'd like to down sample the data to 1000 Hertz:</b>\"),\n",
    "                 down_sample_html]))\n",
    "    \n",
    "\n",
    "    #notch_filt_freq\n",
    "    nf = ipywidgets.FloatText(value = 0, disabled = False)\n",
    "    display(VBox([ipywidgets.HTML(value = \"<b> Enter the frequency of the notch filter (in Hz). Enter 0 if you don't want a notch filter</b>\"), nf]))\n",
    "\n",
    "    ##cutBeginning\n",
    "    cb = ipywidgets.FloatText(value = 5, disabled = False)\n",
    "    display(VBox([ipywidgets.HTML(value = \"<b>Enter the time to be cut from the beginning of the recording (in s)</b>\"), cb]))\n",
    "\n",
    "    ##cutEnd\n",
    "    ce = ipywidgets.FloatText(value = 5, disabled = False)\n",
    "    display(VBox([ipywidgets.HTML(value = \"<b>Enter the time to be cut from the end of the recording (in s )</b>\"), ce]))\n",
    "\n",
    "    ##stimPath\n",
    "    sp = ipywidgets.Text(value = 'board-DIN-01.dat', disabled = False)\n",
    "    display(VBox([ipywidgets.HTML(value = \"<b>Enter the name of the file where the stimulus trigger is kept</b>\"), sp]))\n",
    "\n",
    "else:\n",
    "    #Creating widgets for the user input on the parameters related to spike sorting\n",
    "\n",
    "    ##samplesBefore\n",
    "    sb = ipywidgets.FloatText(value = 0.5, disabled = False)\n",
    "    display(VBox([ipywidgets.HTML(value = '<b>Enter the length of waveform to be taken before the threshold crossing (in ms)</b>'), sb]))\n",
    "\n",
    "    ##samplesAfter\n",
    "    sa = ipywidgets.FloatText(value = 1.5, disabled = False)\n",
    "    display(VBox([ipywidgets.HTML(value = \"<b>Enter the length of waveform to be taken after the threshold crossing (in ms)</b>\"), sa]))\n",
    "\n",
    "    ##lowCutoff\n",
    "    lc = ipywidgets.FloatText(value = 300., disabled = False)\n",
    "    display(VBox([ipywidgets.HTML(value = \"<b>Enter the lower cutoff frequency for the bandpass filter to be applied on the raw data (in Hz)</b>\"), lc]))\n",
    "\n",
    "    ##highCutoff\n",
    "    hc = ipywidgets.FloatText(value = 3000., disabled = False)\n",
    "    display(VBox([ipywidgets.HTML(value = \"<b>Enter the higher cutoff frequency for the bandpass filter to be applied on the raw data (in Hz)</b>\"), hc]))\n"
   ]
  },
  {
   "cell_type": "markdown",
   "metadata": {
    "collapsed": true
   },
   "source": [
    "#### 4) Generate the parameters dictionaries\n",
    "\n",
    "Please run the block of the code in order to generate the parameters dictionary for each recording session (paramsDict.p) based on the input that you have provided above. "
   ]
  },
  {
   "cell_type": "code",
   "execution_count": null,
   "metadata": {},
   "outputs": [],
   "source": [
    "dirs = os.listdir(mp.value) #Listing all recording sessions in the main path\n",
    "probe_info = load_probe_info(pi.value) #Loading probe info from probe selection\n",
    "print(probe_info)\n",
    "\n",
    "to_be_skipped = ['log.txt', 'notes.txt', 'notes.docx', 'analyzed', 'analysis_files', 'other', '.DS_Store', '._.DS_Store' ]\n",
    "\n",
    "for folder in (folder for folder in dirs if(folder not in to_be_skipped)):\n",
    "    p = {} #Parameter dictionary (empty)\n",
    "    \n",
    "    #Entering the probe info and electrode mapping into the dictionary\n",
    "    p['shanks'] = probe_info['numShanks']\n",
    "    p['probes'] = np.value\n",
    "    p['probe_type'] = probe_info['type']\n",
    "    p['probe_name'] = probe_info['name']\n",
    "    if probe_info['type'] == 'tetrode':\n",
    "        p['nr_of_tetrodes'] = probe_info['numTetrodes']\n",
    "        p['max_nr_of_tetrodes_per_shank'] = probe_info['numTetrodesPerShank']\n",
    "        p['nr_of_groups'] = p['nr_of_tetrodes']\n",
    "        p['nr_of_electrodes_per_group'] = 4\n",
    "    elif probe_info['type'] == 'linear':\n",
    "        p['nr_of_electrodes_per_shank'] = probe_info['numTrodesPerShank']\n",
    "        p['nr_of_electrodes'] = probe_info['numTrodes']\n",
    "        p['nr_of_groups'] = p['shanks']\n",
    "        p['nr_of_electrodes_per_group'] = p['nr_of_electrodes_per_shank']\n",
    "        p['bottom_ycoord'] = probe_info['bottom_ycoord']\n",
    "        p['top_ycoord'] = probe_info['top_ycoord']\n",
    "    p['id'] = probe_info['id']\n",
    "\n",
    "    \n",
    "    #Entering the path and file format info into the dictionary\n",
    "    p['mainpath'] = mp.value\n",
    "    p['path'] = mp.value + '/' + folder\n",
    "    p['fileformat'] = ff.value\n",
    "    \n",
    "    #Getting the list of 'rhd' files in the folder in case of 'rhd' format\n",
    "    if p['fileformat'] == 'rhd': \n",
    "        p['rhd_file'] = os.listdir(p['path'])\n",
    "        try: #Removing the non-rhd files from the list, if the session was already analyzed\n",
    "            p['rhd_file'].remove('paramsDict.p')\n",
    "            p['rhd_file'].remove('probe.dat')\n",
    "            p['rhd_file'].remove('probe_evoked.pickle')\n",
    "            p['rhd_file'].remove('probe_evoked.png')\n",
    "        except ValueError:\n",
    "            pass\n",
    "    \n",
    "    #Entering the general parameters into the dictionary\n",
    "    p['sample_rate'] = sr.value\n",
    "    \n",
    "    #Entering the LFP analysis parameters into the dictionary\n",
    "    \n",
    "    if (analysis_method_html.value == 'LFP Analysis'):\n",
    "        p['LFP_analysis'] = True #This has to be specified for running LFP analysis on the EPhys pipeline\n",
    "        p['spikeSorting'] = False\n",
    "        p['evoked_pre'] = epre.value\n",
    "        p['evoked_post'] = epost.value\n",
    "        if(filter_type_html.value == 'Low pass filter'):\n",
    "            p['low_pass_filter'] = True\n",
    "            p['band_pass_filter'] = False\n",
    "        else:\n",
    "            p['low_pass_filter'] = False\n",
    "            p['band_pass_filter'] = True\n",
    "        if(down_sample_html.value == True):\n",
    "            p['down_sample'] = True\n",
    "            p['down_sample_rate'] = int(p['sample_rate']/1000)\n",
    "        else:\n",
    "            p['down_sample'] = False\n",
    "        p['low_cut_freq'] = lp.value\n",
    "        p['high_cut_freq'] = hp.value\n",
    "        p['notch_filt_freq'] = nf.value\n",
    "        p['cut_beginning'] = cb.value\n",
    "        p['cut_end'] = ce.value\n",
    "        p['stim_file'] = sp.value\n",
    "    \n",
    "    #Entering the spike-sorting related parameters into the dictionary\n",
    "    else:\n",
    "        p['LFP_analysis'] = False\n",
    "        p['spikeSorting'] = True\n",
    "        #Converting the waveform time window parameters from miliseconds to sample counts before saving\n",
    "        p['samples_before'] = int(sb.value * p['sample_rate'] / 1000) \n",
    "        p['samples_after'] = int(sa.value * p['sample_rate'] / 1000)\n",
    "        p['low_cutoff'] = lc.value\n",
    "        p['high_cutoff'] = hc.value\n",
    "    \n",
    "    #Saving the dictionary in the pickle file named paramsDict.p \n",
    "    pickle.dump(p, open((mp.value + '/' + folder + '/paramsDict.p'), 'wb'))\n"
   ]
  },
  {
   "cell_type": "markdown",
   "metadata": {},
   "source": [
    "# Done!\n",
    "\n",
    "You might want to check the folders for the recording sessions in your experiment folder to see whether the paramsDict.p files are created in the right place.\n",
    "\n",
    "Notebook written by Baran Yasar in 04/2017. Please contact him in person or e-mail at yasar@biomed.ee.ethz.ch in case of any questions. "
   ]
  }
 ],
 "metadata": {
  "celltoolbar": "Raw Cell Format",
  "kernelspec": {
   "display_name": "Python 3",
   "language": "python",
   "name": "python3"
  },
  "language_info": {
   "codemirror_mode": {
    "name": "ipython",
    "version": 3
   },
   "file_extension": ".py",
   "mimetype": "text/x-python",
   "name": "python",
   "nbconvert_exporter": "python",
   "pygments_lexer": "ipython3",
   "version": "3.5.4"
  },
  "widgets": {
   "state": {
    "0b23ad28456c4f23a942561bcda5eb64": {
     "views": [
      {
       "cell_index": 7
      }
     ]
    },
    "12f9f642b9644d2c98cf8d041cfcb3b1": {
     "views": [
      {
       "cell_index": 5
      }
     ]
    },
    "1425e2f42fa64d1a942e5de6b35f5dcc": {
     "views": [
      {
       "cell_index": 5
      }
     ]
    },
    "19ad94e405c54df39acd0982bcee7e2c": {
     "views": [
      {
       "cell_index": 5
      }
     ]
    },
    "19b1f845238941118c63187e7efe83e7": {
     "views": [
      {
       "cell_index": 3
      }
     ]
    },
    "1d795e38a3bb47d7af366ecaad7e93e3": {
     "views": [
      {
       "cell_index": 5
      }
     ]
    },
    "1ec1708f510d4158a3b4039206bc620e": {
     "views": [
      {
       "cell_index": 5
      }
     ]
    },
    "23ababd5aa60458c883bc120ffc43c30": {
     "views": [
      {
       "cell_index": 5
      }
     ]
    },
    "2b6a2cdb3cd44a68a2c718969f9e2c52": {
     "views": [
      {
       "cell_index": 3
      }
     ]
    },
    "31277ed2ecad48e49c6735530ce56741": {
     "views": [
      {
       "cell_index": 3
      }
     ]
    },
    "34c3048fafe34358bfe8707b84b2122e": {
     "views": [
      {
       "cell_index": 3
      }
     ]
    },
    "4633bd6695cf4433adfd98369ccadb46": {
     "views": [
      {
       "cell_index": 3
      }
     ]
    },
    "4a8d495df2d3479ca8bd493de73ed2d9": {
     "views": [
      {
       "cell_index": 5
      }
     ]
    },
    "4cdd61d0add34e94b322437dcceb7549": {
     "views": [
      {
       "cell_index": 5
      }
     ]
    },
    "5691316c67534e23a500fe03f2210421": {
     "views": [
      {
       "cell_index": 5
      }
     ]
    },
    "5a0697cd87474e02984de21c990b4933": {
     "views": [
      {
       "cell_index": 5
      }
     ]
    },
    "5d99f69a476443e9bde0b75a7467b5ba": {
     "views": [
      {
       "cell_index": 7
      }
     ]
    },
    "6d07dd01cdfc419eb724c686e1a968a8": {
     "views": [
      {
       "cell_index": 7
      }
     ]
    },
    "7139e6505e5a4bc3ba0ca91c8896753d": {
     "views": [
      {
       "cell_index": 3
      }
     ]
    },
    "71a6f147f99148a4b7ba77522484b5bf": {
     "views": [
      {
       "cell_index": 5
      }
     ]
    },
    "84796df1b37d43549cdbf83309829ec2": {
     "views": [
      {
       "cell_index": 3
      }
     ]
    },
    "851f60ceeb5842e686055e23b68a34c7": {
     "views": [
      {
       "cell_index": 7
      }
     ]
    },
    "8cb11d8383374af89373bd86180857ba": {
     "views": [
      {
       "cell_index": 5
      }
     ]
    },
    "a1b6d277e4ba4f4fb54d5496f344dc72": {
     "views": [
      {
       "cell_index": 3
      }
     ]
    },
    "a2ea5f6cdbe24c279ca7a6518e18804d": {
     "views": [
      {
       "cell_index": 3
      }
     ]
    },
    "a625e4e6e77949e488892d40332ac276": {
     "views": [
      {
       "cell_index": 5
      }
     ]
    },
    "abdace8ef042431f97b5eeb7b41e2a56": {
     "views": [
      {
       "cell_index": 5
      }
     ]
    },
    "b4e1682bcaa34ba6b02137a6b4ec0941": {
     "views": [
      {
       "cell_index": 7
      }
     ]
    },
    "bfd2d84759544debbb9c0a68624a1b73": {
     "views": [
      {
       "cell_index": 5
      }
     ]
    },
    "cacf670efc54427eb5c1fb3bae79e811": {
     "views": [
      {
       "cell_index": 7
      }
     ]
    },
    "cff0d9192cdf4eada5321220fe957fbc": {
     "views": [
      {
       "cell_index": 5
      }
     ]
    },
    "db4ce7def95d41f6aa8899c3a96e8b34": {
     "views": [
      {
       "cell_index": 7
      }
     ]
    },
    "e690e918fd6442bbab955e683d80278d": {
     "views": [
      {
       "cell_index": 3
      }
     ]
    },
    "e845ca1499e54805ad500daa26839838": {
     "views": [
      {
       "cell_index": 5
      }
     ]
    },
    "e929b0e574c7471abfc081d47f4b536e": {
     "views": [
      {
       "cell_index": 7
      }
     ]
    },
    "f2c637dfbd314ce1b2b761f51f37e5a3": {
     "views": [
      {
       "cell_index": 7
      }
     ]
    },
    "f84e43f3e4424e0292e0835ba674a98d": {
     "views": [
      {
       "cell_index": 5
      }
     ]
    },
    "fa990b83b1f8411d99f846345e6613b9": {
     "views": [
      {
       "cell_index": 5
      }
     ]
    },
    "fe85eb84daa64b82bb48605afe7fb5f4": {
     "views": [
      {
       "cell_index": 5
      }
     ]
    },
    "ff3d32d6f0f749dc855d7457d654640d": {
     "views": [
      {
       "cell_index": 7
      }
     ]
    }
   },
   "version": "1.2.0"
  }
 },
 "nbformat": 4,
 "nbformat_minor": 2
}
