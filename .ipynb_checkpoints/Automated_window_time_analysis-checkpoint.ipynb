{
 "cells": [
  {
   "cell_type": "markdown",
   "metadata": {},
   "source": [
    "# Welcome\n",
    "Welcome to the script for  the Automatized window LFP analysis. Please follow the upcoming steps in this notebook for further instructions. "
   ]
  },
  {
   "cell_type": "markdown",
   "metadata": {},
   "source": [
    "## 1) Import the packages required for running the script\n",
    "Please run the block of code to import the Python packages that are required for running the rest of this script. "
   ]
  },
  {
   "cell_type": "code",
   "execution_count": null,
   "metadata": {},
   "outputs": [],
   "source": [
    "#Import required packages\n",
    "import os\n",
    "import ipywidgets\n",
    "from ipywidgets import Layout, HBox, VBox\n",
    "from IPython.display import display\n",
    "from LFPutils.automated_window_time_analysis import automated_window_lfp"
   ]
  },
  {
   "cell_type": "markdown",
   "metadata": {},
   "source": [
    "## 2) Enter parameters for the Automatized window LFP analysis"
   ]
  },
  {
   "cell_type": "code",
   "execution_count": null,
   "metadata": {
    "scrolled": true
   },
   "outputs": [],
   "source": [
    "#Main path for the data \n",
    "main_path_html = ipywidgets.HTML(value = \"<p><b>Path to the data of the experiment:</b><br />Enter the path to the folder (with '/' at the end) that is hierarchically right above the folders of the recording sessions</p>\")\n",
    "main_path_input = ipywidgets.Text(value = \"\", placeholder = \"Enter path for data\", disabled = False)\n",
    "display(VBox([main_path_html, main_path_input]))\n",
    "\n",
    "\n",
    "#Time window\n",
    "tw_input = ipywidgets.IntText(value = 2, disabled = False)\n",
    "display(VBox([ipywidgets.HTML(value = \"<b> Time window value (minutes): </b>\"),tw_input]))\n",
    "\n",
    "#Group to plot\n",
    "group_to_plot_input = ipywidgets.IntText(value = 0, disabled = False)\n",
    "display(VBox([ipywidgets.HTML(value = \"<b> Incidate a group for plotting: </b>\"),group_to_plot_input]))\n",
    "\n",
    "#Electrodes to plot\n",
    "trodes_to_plot_html = ipywidgets.HTML(value = \"<b> Indicate a list of electrodes (separating with commas) for plotting: </b>\")\n",
    "trodes_to_plot_input = ipywidgets.Text(value = \"0\", placeholder = \"Enter a list of electrodes for analysis\", disabled = False)\n",
    "display(VBox([trodes_to_plot_html,trodes_to_plot_input]))\n",
    "\n",
    "#Scale y-axis of the figure\n",
    "y_scale_input = ipywidgets.IntText(value = 50, disabled = False)\n",
    "display(VBox([ipywidgets.HTML(value = \"<b> Specify scale constant for y-axis of the figure (optional): </b>\"),y_scale_input]))\n",
    "\n",
    "#Start of the normalization interval\n",
    "normalization_t1_input = ipywidgets.IntText(value = 5, disabled = False)\n",
    "display(VBox([ipywidgets.HTML(value = \"<b> Enter the start of the normalization interval (optional): </b>\"),normalization_t1_input]))\n",
    "\n",
    "#End of the normalization interval\n",
    "normalization_t2_input = ipywidgets.IntText(value = 15, disabled = False)\n",
    "display(VBox([ipywidgets.HTML(value = \"<b> Enter the end of the normalization interval (optional): </b>\"),normalization_t2_input]))"
   ]
  },
  {
   "cell_type": "markdown",
   "metadata": {},
   "source": [
    "## 3) Initiate the Analysis\n",
    "Please run the block of the code in order to excute the algorithm based on the input that you have provided above."
   ]
  },
  {
   "cell_type": "code",
   "execution_count": null,
   "metadata": {
    "scrolled": true
   },
   "outputs": [],
   "source": [
    "main_path = str(main_path_input.value)\n",
    "tw = int(tw_input.value)\n",
    "group_to_plot = int(group_to_plot_input.value)\n",
    "trodes_to_plot = sorted([int(i.replace(' ','')) for i in str(trodes_to_plot_input.value).split(',')])\n",
    "y_scale = int(y_scale_input.value)\n",
    "normalization_t1 = int(normalization_t1_input.value)\n",
    "normalization_t2 = int(normalization_t2_input.value)\n",
    "\n",
    "automated_window_lfp(main_path, tw, group_to_plot, trodes_to_plot, y_scale, normalization_t1, normalization_t2)\n"
   ]
  },
  {
   "cell_type": "markdown",
   "metadata": {},
   "source": [
    "# Done!\n",
    "Please wait until \"Automated window LFP analysis is completed succesfully.\" is printed at the end of the above cell.\n",
    "\n",
    "Notebook written by Abdulkadir Gokce in 06/2018. Please contact him or Mehmet Ozdas in case of any questions."
   ]
  }
 ],
 "metadata": {
  "kernelspec": {
   "display_name": "Python 3",
   "language": "python",
   "name": "python3"
  },
  "language_info": {
   "codemirror_mode": {
    "name": "ipython",
    "version": 3
   },
   "file_extension": ".py",
   "mimetype": "text/x-python",
   "name": "python",
   "nbconvert_exporter": "python",
   "pygments_lexer": "ipython3",
   "version": "3.5.4"
  }
 },
 "nbformat": 4,
 "nbformat_minor": 2
}
