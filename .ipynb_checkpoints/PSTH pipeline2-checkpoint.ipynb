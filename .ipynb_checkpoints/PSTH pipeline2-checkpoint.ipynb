{
 "cells": [
  {
   "cell_type": "markdown",
   "metadata": {},
   "source": [
    "# PSTH Analysis Pipeline"
   ]
  },
  {
   "cell_type": "markdown",
   "metadata": {},
   "source": [
    "Welcome to the script for  the PSTH analysis. Please follow the upcoming steps in this notebook for further instructions. "
   ]
  },
  {
   "cell_type": "markdown",
   "metadata": {},
   "source": [
    "## 1) Import the packages required for running the script\n",
    "Please run the block of code to import the Python packages that are required for running the rest of this script. "
   ]
  },
  {
   "cell_type": "code",
   "execution_count": null,
   "metadata": {
    "scrolled": true
   },
   "outputs": [],
   "source": [
    "#Import required packages\n",
    "import os\n",
    "import ipywidgets\n",
    "from ipywidgets import Layout, HBox, VBox\n",
    "from IPython.display import display\n",
    "from PSTH_analysis import psth_analysis"
   ]
  },
  {
   "cell_type": "markdown",
   "metadata": {},
   "source": [
    "## 2) Enter parameters for the PSTH Analysis"
   ]
  },
  {
   "cell_type": "code",
   "execution_count": null,
   "metadata": {
    "scrolled": false
   },
   "outputs": [],
   "source": [
    "#Main path for the data\n",
    "mainPath_html = ipywidgets.HTML(value = \"<p><b>Path to the data of the experiment:</b><br />Enter the path to the folder (with '/' at the end) that is hierarchically right above the folders of the recording sessions</p>\")\n",
    "mainPath_input = ipywidgets.Text(\n",
    "    value = \"\", \n",
    "    placeholder = \"Enter path for data\", \n",
    "    disabled = False\n",
    ")\n",
    "display(VBox([mainPath_html, mainPath_input]))\n",
    "\n",
    "#Group to analyze\n",
    "group_html = ipywidgets.RadioButtons(\n",
    "    options=['Group 0', 'Group 1'],\n",
    "    value='Group 0',\n",
    "    disabled=False\n",
    ")\n",
    "display(VBox([ipywidgets.HTML(value = \"<b> Select a group to be analyzed: </b>\"), group_html]))\n",
    "\n",
    "#Analysis method\n",
    "analysis_html = ipywidgets.RadioButtons(\n",
    "    options=['Electrode-wise', 'Unit-wise', 'Both'],\n",
    "    value='Electrode-wise',\n",
    "    disabled=False\n",
    ")\n",
    "display(VBox([ipywidgets.HTML(value = \"<b> Analysis Method: </b>\"), analysis_html]))\n",
    "\n",
    "#Spike decision\n",
    "decision_html = ipywidgets.RadioButtons(\n",
    "    options=['All', 'Only good'],\n",
    "    value='All',\n",
    "    disabled=False\n",
    ")\n",
    "display(VBox([ipywidgets.HTML(value = \"<b> Select whether analyze all spikes or those which are clustered under 'Good' in 'klustaviewa': </b>\"), decision_html]))\n",
    "\n",
    "#Analysis interval before FUS\n",
    "pre_interval_html = ipywidgets.IntText(value = 10, disabled = False)\n",
    "display(VBox([ipywidgets.HTML(value = \"<b> Pre interval (ms): </b>\"),pre_interval_html]))\n",
    "\n",
    "\n",
    "#Analysis interval after FUS\n",
    "post_interval_html = ipywidgets.IntText(value = 40, disabled = False)\n",
    "display(VBox([ipywidgets.HTML(value = \"<b> Post interval (ms): </b>\"),post_interval_html]))\n",
    "\n",
    "#Bin size \n",
    "bin_size_html = ipywidgets.IntText(value = 1, disabled = False)\n",
    "display(VBox([ipywidgets.HTML(value = \"<b> Bin size (ms): </b>\"),bin_size_html]))\n",
    "\n",
    "#FUS On time\n",
    "t_fus_on_html = ipywidgets.FloatText(value = 20, disabled = False)\n",
    "display(VBox([ipywidgets.HTML(value = \"<b> Timing of the FUS ON (min): </b>\"),t_fus_on_html]))\n"
   ]
  },
  {
   "cell_type": "markdown",
   "metadata": {},
   "source": [
    "## 3) Initiate the PSTH Analysis\n",
    "\n",
    "Please run the block of the code in order to excute the PSTH algorithm based on the input that you have provided above."
   ]
  },
  {
   "cell_type": "code",
   "execution_count": null,
   "metadata": {
    "scrolled": false
   },
   "outputs": [],
   "source": [
    "mainPath = str(mainPath_input.value)\n",
    "print(\"Path to the data: {0}\".format(mainPath))\n",
    "psthParameters = {}\n",
    "if(str(group_html.value) == 'Group 0'):\n",
    "    psthParameters['group'] = 0\n",
    "else:\n",
    "    psthParameters['group'] = 1\n",
    "\n",
    "if(str(analysis_html.value) == 'Electrode-wise'):\n",
    "    psthParameters['psth_all_electrodes'] = True\n",
    "    psthParameters['psth_all_units'] = False\n",
    "elif(str(analysis_html.value) == 'Unit-wise'):\n",
    "    psthParameters['psth_all_electrodes'] = False\n",
    "    psthParameters['psth_all_units'] = True\n",
    "else:\n",
    "    psthParameters['psth_all_electrodes'] = True\n",
    "    psthParameters['psth_all_units'] = True\n",
    "    \n",
    "if(str(decision_html.value) == 'All'):\n",
    "    psthParameters['decision'] = 'all'\n",
    "else:\n",
    "    psthParameters['decision'] = 'only_good'\n",
    "\n",
    "psthParameters['pre_interval_ms'] = int(pre_interval_html.value)\n",
    "psthParameters['post_interval_ms'] = int(post_interval_html.value)\n",
    "psthParameters['bis_size_ms'] = int(bin_size_html.value)\n",
    "psthParameters['t_fus_on'] = int(t_fus_on_html.value)\n",
    "print('FUS activation: {0}. minute'.format(psthParameters['t_fus_on']))\n",
    "\n",
    "psth_analysis(mainPath, psthParameters)"
   ]
  },
  {
   "cell_type": "markdown",
   "metadata": {},
   "source": [
    "# Done!\n",
    "Please wait until \"PSTH Analysis is completed succesfully.\" is printed at the end of the above cell."
   ]
  }
 ],
 "metadata": {
  "kernelspec": {
   "display_name": "Python 3",
   "language": "python",
   "name": "python3"
  },
  "language_info": {
   "codemirror_mode": {
    "name": "ipython",
    "version": 3
   },
   "file_extension": ".py",
   "mimetype": "text/x-python",
   "name": "python",
   "nbconvert_exporter": "python",
   "pygments_lexer": "ipython3",
   "version": "3.5.4"
  }
 },
 "nbformat": 4,
 "nbformat_minor": 2
}
