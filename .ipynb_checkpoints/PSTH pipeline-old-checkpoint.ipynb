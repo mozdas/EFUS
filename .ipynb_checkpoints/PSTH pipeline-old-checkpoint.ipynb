{
 "cells": [
  {
   "cell_type": "markdown",
   "metadata": {},
   "source": [
    "# PSTH Analysis Pipeline"
   ]
  },
  {
   "cell_type": "markdown",
   "metadata": {},
   "source": [
    "This notebook runs through the process of generating PSTH (peristimulus time histogram) for electrodes and units.\n",
    "Please contact cimesal@student.ethz.ch in case you have any questions."
   ]
  },
  {
   "cell_type": "markdown",
   "metadata": {},
   "source": [
    "## 1) Set parameters for the PSTH analysis\n",
    "First step is to enter the general parameters for the PSTH analysis.\n",
    "Set the time in ms before the stimulus, time in ms after the stimulus and bin size in ms, which define PSTH window.\n",
    "Set the timings of the FUS ON, FUS OFF, which can be read from the .txt file in folder 'other'. This folder is in the directory where all the recording sessions are.\n",
    "Recovery timing could be chosen based on time-window LFPs, when the LFP amplitude starts increasing again."
   ]
  },
  {
   "cell_type": "code",
   "execution_count": 22,
   "metadata": {
    "scrolled": true
   },
   "outputs": [],
   "source": [
    "#Import required packages\n",
    "#kernel python\n",
    "import os\n",
    "import ipywidgets\n",
    "from ipywidgets import Layout, HBox, VBox\n",
    "from IPython.display import display\n",
    "from numpy import *"
   ]
  },
  {
   "cell_type": "code",
   "execution_count": 10,
   "metadata": {
    "scrolled": false
   },
   "outputs": [
    {
     "data": {
      "application/vnd.jupyter.widget-view+json": {
       "model_id": "ea505fe3983745fbb47497a83addfd76",
       "version_major": 2,
       "version_minor": 0
      },
      "text/html": [
       "<p>Failed to display Jupyter Widget of type <code>VBox</code>.</p>\n",
       "<p>\n",
       "  If you're reading this message in the Jupyter Notebook or JupyterLab Notebook, it may mean\n",
       "  that the widgets JavaScript is still loading. If this message persists, it\n",
       "  likely means that the widgets JavaScript library is either not installed or\n",
       "  not enabled. See the <a href=\"https://ipywidgets.readthedocs.io/en/stable/user_install.html\">Jupyter\n",
       "  Widgets Documentation</a> for setup instructions.\n",
       "</p>\n",
       "<p>\n",
       "  If you're reading this message in another frontend (for example, a static\n",
       "  rendering on GitHub or <a href=\"https://nbviewer.jupyter.org/\">NBViewer</a>),\n",
       "  it may mean that your frontend doesn't currently support widgets.\n",
       "</p>\n"
      ],
      "text/plain": [
       "VBox(children=(HTML(value=\"<p><b>Path to the data of the experiment:</b><br />Enter the path to the folder (with no '/' at the end) that is hierarchically right above the folders of the recording sessions</p>\"), Text(value='', placeholder='Enter path for data')))"
      ]
     },
     "metadata": {},
     "output_type": "display_data"
    },
    {
     "data": {
      "application/vnd.jupyter.widget-view+json": {
       "model_id": "ee367614d11d458798c23546a3b97e08",
       "version_major": 2,
       "version_minor": 0
      },
      "text/html": [
       "<p>Failed to display Jupyter Widget of type <code>VBox</code>.</p>\n",
       "<p>\n",
       "  If you're reading this message in the Jupyter Notebook or JupyterLab Notebook, it may mean\n",
       "  that the widgets JavaScript is still loading. If this message persists, it\n",
       "  likely means that the widgets JavaScript library is either not installed or\n",
       "  not enabled. See the <a href=\"https://ipywidgets.readthedocs.io/en/stable/user_install.html\">Jupyter\n",
       "  Widgets Documentation</a> for setup instructions.\n",
       "</p>\n",
       "<p>\n",
       "  If you're reading this message in another frontend (for example, a static\n",
       "  rendering on GitHub or <a href=\"https://nbviewer.jupyter.org/\">NBViewer</a>),\n",
       "  it may mean that your frontend doesn't currently support widgets.\n",
       "</p>\n"
      ],
      "text/plain": [
       "VBox(children=(HTML(value='<b> Pre interval (ms): </b>'), IntText(value=10)))"
      ]
     },
     "metadata": {},
     "output_type": "display_data"
    },
    {
     "data": {
      "application/vnd.jupyter.widget-view+json": {
       "model_id": "f7941c94fce34441bd841efa5ac4b8a3",
       "version_major": 2,
       "version_minor": 0
      },
      "text/html": [
       "<p>Failed to display Jupyter Widget of type <code>VBox</code>.</p>\n",
       "<p>\n",
       "  If you're reading this message in the Jupyter Notebook or JupyterLab Notebook, it may mean\n",
       "  that the widgets JavaScript is still loading. If this message persists, it\n",
       "  likely means that the widgets JavaScript library is either not installed or\n",
       "  not enabled. See the <a href=\"https://ipywidgets.readthedocs.io/en/stable/user_install.html\">Jupyter\n",
       "  Widgets Documentation</a> for setup instructions.\n",
       "</p>\n",
       "<p>\n",
       "  If you're reading this message in another frontend (for example, a static\n",
       "  rendering on GitHub or <a href=\"https://nbviewer.jupyter.org/\">NBViewer</a>),\n",
       "  it may mean that your frontend doesn't currently support widgets.\n",
       "</p>\n"
      ],
      "text/plain": [
       "VBox(children=(HTML(value='<b> Post interval (ms): </b>'), IntText(value=40)))"
      ]
     },
     "metadata": {},
     "output_type": "display_data"
    },
    {
     "data": {
      "application/vnd.jupyter.widget-view+json": {
       "model_id": "003ad51b8c364ab4b8efd0696677a4ad",
       "version_major": 2,
       "version_minor": 0
      },
      "text/html": [
       "<p>Failed to display Jupyter Widget of type <code>VBox</code>.</p>\n",
       "<p>\n",
       "  If you're reading this message in the Jupyter Notebook or JupyterLab Notebook, it may mean\n",
       "  that the widgets JavaScript is still loading. If this message persists, it\n",
       "  likely means that the widgets JavaScript library is either not installed or\n",
       "  not enabled. See the <a href=\"https://ipywidgets.readthedocs.io/en/stable/user_install.html\">Jupyter\n",
       "  Widgets Documentation</a> for setup instructions.\n",
       "</p>\n",
       "<p>\n",
       "  If you're reading this message in another frontend (for example, a static\n",
       "  rendering on GitHub or <a href=\"https://nbviewer.jupyter.org/\">NBViewer</a>),\n",
       "  it may mean that your frontend doesn't currently support widgets.\n",
       "</p>\n"
      ],
      "text/plain": [
       "VBox(children=(HTML(value='<b> Bin size (ms): </b>'), IntText(value=1)))"
      ]
     },
     "metadata": {},
     "output_type": "display_data"
    },
    {
     "data": {
      "application/vnd.jupyter.widget-view+json": {
       "model_id": "780580291e7d4ca7b288791d3d97c67a",
       "version_major": 2,
       "version_minor": 0
      },
      "text/html": [
       "<p>Failed to display Jupyter Widget of type <code>VBox</code>.</p>\n",
       "<p>\n",
       "  If you're reading this message in the Jupyter Notebook or JupyterLab Notebook, it may mean\n",
       "  that the widgets JavaScript is still loading. If this message persists, it\n",
       "  likely means that the widgets JavaScript library is either not installed or\n",
       "  not enabled. See the <a href=\"https://ipywidgets.readthedocs.io/en/stable/user_install.html\">Jupyter\n",
       "  Widgets Documentation</a> for setup instructions.\n",
       "</p>\n",
       "<p>\n",
       "  If you're reading this message in another frontend (for example, a static\n",
       "  rendering on GitHub or <a href=\"https://nbviewer.jupyter.org/\">NBViewer</a>),\n",
       "  it may mean that your frontend doesn't currently support widgets.\n",
       "</p>\n"
      ],
      "text/plain": [
       "VBox(children=(HTML(value='<b> Timing of the FUS ON (min): </b>'), FloatText(value=62.0)))"
      ]
     },
     "metadata": {},
     "output_type": "display_data"
    }
   ],
   "source": [
    "### Creating widgets for the user input on the time parameters PSTH analysis\n",
    "##Main path for the data \n",
    "\n",
    "mainPath_html = ipywidgets.HTML(value = \"<p><b>Path to the data of the experiment:</b><br />Enter the path to the folder (with no '/' at the end) that is hierarchically right above the folders of the recording sessions</p>\")\n",
    "mainPath_input = ipywidgets.Text(value = \"\", placeholder = \"Enter path for data\", disabled = False)\n",
    "display(VBox([mainPath_html, mainPath_input]))\n",
    "\n",
    "#start analysing pre interval in ms before the stimulus\n",
    "pre_interval_html = ipywidgets.IntText(value = 10, disabled = False)\n",
    "display(VBox([ipywidgets.HTML(value = \"<b> Pre interval (ms): </b>\"),pre_interval_html]))\n",
    "\n",
    "\n",
    "#stop analysing post interval in ms after the stimulus \n",
    "post_interval_html = ipywidgets.IntText(value = 40, disabled = False)\n",
    "display(VBox([ipywidgets.HTML(value = \"<b> Post interval (ms): </b>\"),post_interval_html]))\n",
    "\n",
    "#bin size in ms \n",
    "bin_size_html = ipywidgets.IntText(value = 1, disabled = False)\n",
    "display(VBox([ipywidgets.HTML(value = \"<b> Bin size (ms): </b>\"),bin_size_html]))\n",
    "\n",
    "#<b> timings for FUS ON/OFF can be read in the <b> text file\n",
    "t_fus_on_html = ipywidgets.FloatText(value = 62, disabled = False)\n",
    "display(VBox([ipywidgets.HTML(value = \"<b> Timing of the FUS ON (min): </b>\"),t_fus_on_html]))\n"
   ]
  },
  {
   "cell_type": "code",
   "execution_count": 12,
   "metadata": {},
   "outputs": [
    {
     "name": "stdout",
     "output_type": "stream",
     "text": [
      "Path to the data: /media/yaniklab/05d01d78-2bd6-4a4e-b573-df49ccacb71c/test_1234567/\n",
      "FUS activation: 4. minute\n"
     ]
    }
   ],
   "source": [
    "#Printing the parameters from the cell above, to check if they are correctly set\n",
    "mainPath = str(mainPath_input.value)\n",
    "print(\"Path to the data: {0}\".format(mainPath))\n",
    "psthParameters = {}\n",
    "psthParameters['pre_interval_ms'] = int(pre_interval_html.value)\n",
    "psthParameters['post_interval_ms'] = int(post_interval_html.value)\n",
    "psthParameters['bis_size_ms'] = int(bin_size_html.value)\n",
    "psthParameters['t_fus_on'] = int(t_fus_on_html.value)\n",
    "print('FUS activation: {0}. minute'.format(psthParameters['t_fus_on']))\n",
    "\n",
    "decision = 'only_good'"
   ]
  },
  {
   "cell_type": "markdown",
   "metadata": {},
   "source": [
    "## 2) Generate PSTH graphs for the electrodes\n",
    "In this step, PSTH graphs for all 16 electrodes from the chosen probe and group will be generated.\n",
    "Before executing the script, chose the probe and group of interest (for this particular probe and group, graphs will be generated).\n",
    "Repeat this step for other probes and groups."
   ]
  },
  {
   "cell_type": "code",
   "execution_count": 23,
   "metadata": {
    "scrolled": true
   },
   "outputs": [
    {
     "ename": "TypeError",
     "evalue": "'int' object is not iterable",
     "output_type": "error",
     "traceback": [
      "\u001b[0;31m---------------------------------------------------------------------------\u001b[0m",
      "\u001b[0;31mTypeError\u001b[0m                                 Traceback (most recent call last)",
      "\u001b[0;32m~/Desktop/akgokce/hybrid2/PSTH_all_electrodes_final.py\u001b[0m in \u001b[0;36m<module>\u001b[0;34m()\u001b[0m\n\u001b[1;32m     90\u001b[0m             \u001b[0mpsthParameters\u001b[0m\u001b[0;34m[\u001b[0m\u001b[0;34m'window_size'\u001b[0m\u001b[0;34m]\u001b[0m \u001b[0;34m=\u001b[0m \u001b[0mpsthParameters\u001b[0m\u001b[0;34m[\u001b[0m\u001b[0;34m'pre_interval'\u001b[0m\u001b[0;34m]\u001b[0m \u001b[0;34m+\u001b[0m \u001b[0mpsthParameters\u001b[0m\u001b[0;34m[\u001b[0m\u001b[0;34m'post_interval'\u001b[0m\u001b[0;34m]\u001b[0m\u001b[0;34m\u001b[0m\u001b[0m\n\u001b[1;32m     91\u001b[0m \u001b[0;34m\u001b[0m\u001b[0m\n\u001b[0;32m---> 92\u001b[0;31m             \u001b[0mpsth_dict\u001b[0m \u001b[0;34m=\u001b[0m \u001b[0mcalculate_PSTH_dict\u001b[0m\u001b[0;34m(\u001b[0m\u001b[0mspikes_dict\u001b[0m\u001b[0;34m,\u001b[0m \u001b[0mstim_timestamps\u001b[0m\u001b[0;34m,\u001b[0m \u001b[0mwindow_times\u001b[0m\u001b[0;34m,\u001b[0m \u001b[0mpsthParameters\u001b[0m\u001b[0;34m)\u001b[0m\u001b[0;34m\u001b[0m\u001b[0m\n\u001b[0m\u001b[1;32m     93\u001b[0m \u001b[0;34m\u001b[0m\u001b[0m\n\u001b[1;32m     94\u001b[0m             \u001b[0;31m#5. create figures only for all electrodes\u001b[0m\u001b[0;34m\u001b[0m\u001b[0;34m\u001b[0m\u001b[0m\n",
      "\u001b[0;32m~/Desktop/akgokce/hybrid2/PSTH_utils.py\u001b[0m in \u001b[0;36mcalculate_PSTH_dict\u001b[0;34m(spikes_dict, stim_timestamps, window_times, psthParameters)\u001b[0m\n\u001b[1;32m     21\u001b[0m         \u001b[0mpsth_per_trode\u001b[0m \u001b[0;34m=\u001b[0m \u001b[0;34m[\u001b[0m\u001b[0;34m]\u001b[0m\u001b[0;34m\u001b[0m\u001b[0m\n\u001b[1;32m     22\u001b[0m \u001b[0;34m\u001b[0m\u001b[0m\n\u001b[0;32m---> 23\u001b[0;31m         \u001b[0mprint\u001b[0m\u001b[0;34m(\u001b[0m\u001b[0mwindow_times\u001b[0m\u001b[0;34m)\u001b[0m\u001b[0;34m\u001b[0m\u001b[0m\n\u001b[0m\u001b[1;32m     24\u001b[0m \u001b[0;34m\u001b[0m\u001b[0m\n\u001b[1;32m     25\u001b[0m         \u001b[0;32mfor\u001b[0m \u001b[0mtime\u001b[0m \u001b[0;32min\u001b[0m \u001b[0mrange\u001b[0m\u001b[0;34m(\u001b[0m\u001b[0mlen\u001b[0m\u001b[0;34m(\u001b[0m\u001b[0mwindow_times\u001b[0m\u001b[0;34m)\u001b[0m\u001b[0;34m)\u001b[0m\u001b[0;34m:\u001b[0m\u001b[0;34m\u001b[0m\u001b[0m\n",
      "\u001b[0;31mTypeError\u001b[0m: 'int' object is not iterable"
     ]
    }
   ],
   "source": [
    "probe='0'\n",
    "group='0'\n",
    "%run -i PSTH_all_electrodes_final.py\n"
   ]
  },
  {
   "cell_type": "markdown",
   "metadata": {},
   "source": [
    "## 3) Generating PSTH graph for several electrodes\n",
    "After the PSTH graphs for all electrodes have been formed, the user should select the electrodes which are relevant for further analysis. Enter the  indices of electrodes which are to be chosen under <b> decision.\n"
   ]
  },
  {
   "cell_type": "code",
   "execution_count": null,
   "metadata": {
    "scrolled": true
   },
   "outputs": [],
   "source": [
    "decision=[0,1,3,6,7]\n",
    "%run -i PSTH_several_electrodes_final.py"
   ]
  },
  {
   "cell_type": "markdown",
   "metadata": {},
   "source": [
    "## 4) Generating PSTH graphs for all units\n",
    "\n",
    "Next step is to generate PSTH graphs for all the units clustered as 'GOOD' to see the response in time.\n",
    "Parameters for the signal analysis are the same as in <b> 5).\n"
   ]
  },
  {
   "cell_type": "code",
   "execution_count": null,
   "metadata": {
    "scrolled": true
   },
   "outputs": [],
   "source": [
    "probe='0'\n",
    "group='0'\n",
    "print(T_FUS_ON)\n",
    "print(T_FUS_OFF)\n",
    "print(T_RECOVERY)\n",
    "%run -i PSTH_all_units_final.py"
   ]
  },
  {
   "cell_type": "markdown",
   "metadata": {},
   "source": [
    "## 5) Generating PSTH graphs for several units\n",
    "\n",
    "After generating PSTH graphs for all unit, the average of the responding units will be calculated. Choose the threshold (all units that have PSTH magnitude above this threshold will be considered as responding).\n"
   ]
  },
  {
   "cell_type": "code",
   "execution_count": null,
   "metadata": {},
   "outputs": [],
   "source": [
    "decision=['unit1','unit2','unit3','unit4','unit5','unit6','unit7','unit8','unit9','unit10']\n",
    "#print(PATHEXP)\n",
    "\n"
   ]
  },
  {
   "cell_type": "code",
   "execution_count": null,
   "metadata": {},
   "outputs": [],
   "source": []
  }
 ],
 "metadata": {
  "kernelspec": {
   "display_name": "Python 3",
   "language": "python",
   "name": "python3"
  },
  "language_info": {
   "codemirror_mode": {
    "name": "ipython",
    "version": 3
   },
   "file_extension": ".py",
   "mimetype": "text/x-python",
   "name": "python",
   "nbconvert_exporter": "python",
   "pygments_lexer": "ipython3",
   "version": "3.5.4"
  }
 },
 "nbformat": 4,
 "nbformat_minor": 2
}
