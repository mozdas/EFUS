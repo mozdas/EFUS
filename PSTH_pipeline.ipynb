{
 "cells": [
  {
   "cell_type": "markdown",
   "metadata": {},
   "source": [
    "# PSTH Analysis Pipeline\n",
    "Welcome to the script for  the PSTH analysis. Please follow the upcoming steps in this notebook for further instructions. "
   ]
  },
  {
   "cell_type": "markdown",
   "metadata": {},
   "source": [
    "## 1) Import the packages required for running the script\n",
    "Please run the block of code to import the Python packages that are required for running the rest of this script. "
   ]
  },
  {
   "cell_type": "code",
   "execution_count": 1,
   "metadata": {},
   "outputs": [],
   "source": [
    "#Import required packages\n",
    "import os\n",
    "import ipywidgets\n",
    "from ipywidgets import Layout, HBox, VBox\n",
    "from IPython.display import display\n",
    "from PSTH_analysis import psth_analysis"
   ]
  },
  {
   "cell_type": "markdown",
   "metadata": {},
   "source": [
    "## 2) Enter parameters for the PSTH Analysis"
   ]
  },
  {
   "cell_type": "code",
   "execution_count": 2,
   "metadata": {
    "scrolled": true
   },
   "outputs": [
    {
     "data": {
      "application/vnd.jupyter.widget-view+json": {
       "model_id": "0faf984fa47349aeb1476570650d8fea",
       "version_major": 2,
       "version_minor": 0
      },
      "text/html": [
       "<p>Failed to display Jupyter Widget of type <code>VBox</code>.</p>\n",
       "<p>\n",
       "  If you're reading this message in the Jupyter Notebook or JupyterLab Notebook, it may mean\n",
       "  that the widgets JavaScript is still loading. If this message persists, it\n",
       "  likely means that the widgets JavaScript library is either not installed or\n",
       "  not enabled. See the <a href=\"https://ipywidgets.readthedocs.io/en/stable/user_install.html\">Jupyter\n",
       "  Widgets Documentation</a> for setup instructions.\n",
       "</p>\n",
       "<p>\n",
       "  If you're reading this message in another frontend (for example, a static\n",
       "  rendering on GitHub or <a href=\"https://nbviewer.jupyter.org/\">NBViewer</a>),\n",
       "  it may mean that your frontend doesn't currently support widgets.\n",
       "</p>\n"
      ],
      "text/plain": [
       "VBox(children=(HTML(value=\"<p><b>Path to the data of the experiment:</b><br />Enter the path to the folder (with '/' at the end) that is hierarchically right above the folders of the recording sessions</p>\"), Text(value='', placeholder='Enter path for data')))"
      ]
     },
     "metadata": {},
     "output_type": "display_data"
    },
    {
     "data": {
      "application/vnd.jupyter.widget-view+json": {
       "model_id": "31f4f2ac32b34b5cb1c57cf88ac9420b",
       "version_major": 2,
       "version_minor": 0
      },
      "text/html": [
       "<p>Failed to display Jupyter Widget of type <code>VBox</code>.</p>\n",
       "<p>\n",
       "  If you're reading this message in the Jupyter Notebook or JupyterLab Notebook, it may mean\n",
       "  that the widgets JavaScript is still loading. If this message persists, it\n",
       "  likely means that the widgets JavaScript library is either not installed or\n",
       "  not enabled. See the <a href=\"https://ipywidgets.readthedocs.io/en/stable/user_install.html\">Jupyter\n",
       "  Widgets Documentation</a> for setup instructions.\n",
       "</p>\n",
       "<p>\n",
       "  If you're reading this message in another frontend (for example, a static\n",
       "  rendering on GitHub or <a href=\"https://nbviewer.jupyter.org/\">NBViewer</a>),\n",
       "  it may mean that your frontend doesn't currently support widgets.\n",
       "</p>\n"
      ],
      "text/plain": [
       "VBox(children=(HTML(value='<b> Select a group to be analyzed: </b>'), RadioButtons(options=('Group 0', 'Group 1'), value='Group 0')))"
      ]
     },
     "metadata": {},
     "output_type": "display_data"
    },
    {
     "data": {
      "application/vnd.jupyter.widget-view+json": {
       "model_id": "d12700adb60e422c95711965a82e2c63",
       "version_major": 2,
       "version_minor": 0
      },
      "text/html": [
       "<p>Failed to display Jupyter Widget of type <code>VBox</code>.</p>\n",
       "<p>\n",
       "  If you're reading this message in the Jupyter Notebook or JupyterLab Notebook, it may mean\n",
       "  that the widgets JavaScript is still loading. If this message persists, it\n",
       "  likely means that the widgets JavaScript library is either not installed or\n",
       "  not enabled. See the <a href=\"https://ipywidgets.readthedocs.io/en/stable/user_install.html\">Jupyter\n",
       "  Widgets Documentation</a> for setup instructions.\n",
       "</p>\n",
       "<p>\n",
       "  If you're reading this message in another frontend (for example, a static\n",
       "  rendering on GitHub or <a href=\"https://nbviewer.jupyter.org/\">NBViewer</a>),\n",
       "  it may mean that your frontend doesn't currently support widgets.\n",
       "</p>\n"
      ],
      "text/plain": [
       "VBox(children=(HTML(value='<b> Analysis Method: </b>'), RadioButtons(options=('Electrode-wise', 'Unit-wise', 'Both'), value='Electrode-wise')))"
      ]
     },
     "metadata": {},
     "output_type": "display_data"
    },
    {
     "data": {
      "application/vnd.jupyter.widget-view+json": {
       "model_id": "0a11817eaf104b14965acf8eed3ed94c",
       "version_major": 2,
       "version_minor": 0
      },
      "text/html": [
       "<p>Failed to display Jupyter Widget of type <code>VBox</code>.</p>\n",
       "<p>\n",
       "  If you're reading this message in the Jupyter Notebook or JupyterLab Notebook, it may mean\n",
       "  that the widgets JavaScript is still loading. If this message persists, it\n",
       "  likely means that the widgets JavaScript library is either not installed or\n",
       "  not enabled. See the <a href=\"https://ipywidgets.readthedocs.io/en/stable/user_install.html\">Jupyter\n",
       "  Widgets Documentation</a> for setup instructions.\n",
       "</p>\n",
       "<p>\n",
       "  If you're reading this message in another frontend (for example, a static\n",
       "  rendering on GitHub or <a href=\"https://nbviewer.jupyter.org/\">NBViewer</a>),\n",
       "  it may mean that your frontend doesn't currently support widgets.\n",
       "</p>\n"
      ],
      "text/plain": [
       "VBox(children=(HTML(value='<b> Specify a valid interval if you want to analyze a window as a whole: </b>'), HTML(value='Check the below box if you want to do specific window PSTH Analysis:'), Checkbox(value=False, description='Window PSTH Analysis'), HTML(value='Select your interval by sliding the knobs:'), IntRangeSlider(value=(0, 180), max=180)))"
      ]
     },
     "metadata": {},
     "output_type": "display_data"
    },
    {
     "data": {
      "application/vnd.jupyter.widget-view+json": {
       "model_id": "dd6123dd955d40d1984cd43efdb89537",
       "version_major": 2,
       "version_minor": 0
      },
      "text/html": [
       "<p>Failed to display Jupyter Widget of type <code>VBox</code>.</p>\n",
       "<p>\n",
       "  If you're reading this message in the Jupyter Notebook or JupyterLab Notebook, it may mean\n",
       "  that the widgets JavaScript is still loading. If this message persists, it\n",
       "  likely means that the widgets JavaScript library is either not installed or\n",
       "  not enabled. See the <a href=\"https://ipywidgets.readthedocs.io/en/stable/user_install.html\">Jupyter\n",
       "  Widgets Documentation</a> for setup instructions.\n",
       "</p>\n",
       "<p>\n",
       "  If you're reading this message in another frontend (for example, a static\n",
       "  rendering on GitHub or <a href=\"https://nbviewer.jupyter.org/\">NBViewer</a>),\n",
       "  it may mean that your frontend doesn't currently support widgets.\n",
       "</p>\n"
      ],
      "text/plain": [
       "VBox(children=(HTML(value=\"<b> Select whether analyze all spikes or those which are clustered under 'Good' in 'klustaviewa': </b>\"), RadioButtons(options=('All', 'Only good'), value='All')))"
      ]
     },
     "metadata": {},
     "output_type": "display_data"
    },
    {
     "data": {
      "application/vnd.jupyter.widget-view+json": {
       "model_id": "781b93ea622e426a9847cd1035b4a93e",
       "version_major": 2,
       "version_minor": 0
      },
      "text/html": [
       "<p>Failed to display Jupyter Widget of type <code>VBox</code>.</p>\n",
       "<p>\n",
       "  If you're reading this message in the Jupyter Notebook or JupyterLab Notebook, it may mean\n",
       "  that the widgets JavaScript is still loading. If this message persists, it\n",
       "  likely means that the widgets JavaScript library is either not installed or\n",
       "  not enabled. See the <a href=\"https://ipywidgets.readthedocs.io/en/stable/user_install.html\">Jupyter\n",
       "  Widgets Documentation</a> for setup instructions.\n",
       "</p>\n",
       "<p>\n",
       "  If you're reading this message in another frontend (for example, a static\n",
       "  rendering on GitHub or <a href=\"https://nbviewer.jupyter.org/\">NBViewer</a>),\n",
       "  it may mean that your frontend doesn't currently support widgets.\n",
       "</p>\n"
      ],
      "text/plain": [
       "VBox(children=(HTML(value='<b> Window duration (min): </b>'), HTML(value='Select duration of PSTH Analysis windows by sliding the knob.'), IntSlider(value=10, max=50, min=1)))"
      ]
     },
     "metadata": {},
     "output_type": "display_data"
    },
    {
     "data": {
      "application/vnd.jupyter.widget-view+json": {
       "model_id": "7d01ab40591a444e9dd45ec8664e7bb0",
       "version_major": 2,
       "version_minor": 0
      },
      "text/html": [
       "<p>Failed to display Jupyter Widget of type <code>VBox</code>.</p>\n",
       "<p>\n",
       "  If you're reading this message in the Jupyter Notebook or JupyterLab Notebook, it may mean\n",
       "  that the widgets JavaScript is still loading. If this message persists, it\n",
       "  likely means that the widgets JavaScript library is either not installed or\n",
       "  not enabled. See the <a href=\"https://ipywidgets.readthedocs.io/en/stable/user_install.html\">Jupyter\n",
       "  Widgets Documentation</a> for setup instructions.\n",
       "</p>\n",
       "<p>\n",
       "  If you're reading this message in another frontend (for example, a static\n",
       "  rendering on GitHub or <a href=\"https://nbviewer.jupyter.org/\">NBViewer</a>),\n",
       "  it may mean that your frontend doesn't currently support widgets.\n",
       "</p>\n"
      ],
      "text/plain": [
       "VBox(children=(HTML(value='<b> Pre interval (ms): </b>'), HTML(value='Enter the duration of pre interval before a stimulus'), IntText(value=20)))"
      ]
     },
     "metadata": {},
     "output_type": "display_data"
    },
    {
     "data": {
      "application/vnd.jupyter.widget-view+json": {
       "model_id": "a1f26d5e6674494cb376ee35a80d9de6",
       "version_major": 2,
       "version_minor": 0
      },
      "text/html": [
       "<p>Failed to display Jupyter Widget of type <code>VBox</code>.</p>\n",
       "<p>\n",
       "  If you're reading this message in the Jupyter Notebook or JupyterLab Notebook, it may mean\n",
       "  that the widgets JavaScript is still loading. If this message persists, it\n",
       "  likely means that the widgets JavaScript library is either not installed or\n",
       "  not enabled. See the <a href=\"https://ipywidgets.readthedocs.io/en/stable/user_install.html\">Jupyter\n",
       "  Widgets Documentation</a> for setup instructions.\n",
       "</p>\n",
       "<p>\n",
       "  If you're reading this message in another frontend (for example, a static\n",
       "  rendering on GitHub or <a href=\"https://nbviewer.jupyter.org/\">NBViewer</a>),\n",
       "  it may mean that your frontend doesn't currently support widgets.\n",
       "</p>\n"
      ],
      "text/plain": [
       "VBox(children=(HTML(value='<b> Post interval (ms): </b>'), HTML(value='Enter the duration of post interval after a stimulus'), IntText(value=80)))"
      ]
     },
     "metadata": {},
     "output_type": "display_data"
    },
    {
     "data": {
      "application/vnd.jupyter.widget-view+json": {
       "model_id": "6e53525e1e0340479eaa5b9db0f96c42",
       "version_major": 2,
       "version_minor": 0
      },
      "text/html": [
       "<p>Failed to display Jupyter Widget of type <code>VBox</code>.</p>\n",
       "<p>\n",
       "  If you're reading this message in the Jupyter Notebook or JupyterLab Notebook, it may mean\n",
       "  that the widgets JavaScript is still loading. If this message persists, it\n",
       "  likely means that the widgets JavaScript library is either not installed or\n",
       "  not enabled. See the <a href=\"https://ipywidgets.readthedocs.io/en/stable/user_install.html\">Jupyter\n",
       "  Widgets Documentation</a> for setup instructions.\n",
       "</p>\n",
       "<p>\n",
       "  If you're reading this message in another frontend (for example, a static\n",
       "  rendering on GitHub or <a href=\"https://nbviewer.jupyter.org/\">NBViewer</a>),\n",
       "  it may mean that your frontend doesn't currently support widgets.\n",
       "</p>\n"
      ],
      "text/plain": [
       "VBox(children=(HTML(value='<b> Bin size (ms): </b>'), HTML(value='Enter size of the histogram bins that determines the width of the bars'), FloatText(value=1.0)))"
      ]
     },
     "metadata": {},
     "output_type": "display_data"
    },
    {
     "data": {
      "application/vnd.jupyter.widget-view+json": {
       "model_id": "9bb37f4f2df3459fb49eeb6922d7565d",
       "version_major": 2,
       "version_minor": 0
      },
      "text/html": [
       "<p>Failed to display Jupyter Widget of type <code>VBox</code>.</p>\n",
       "<p>\n",
       "  If you're reading this message in the Jupyter Notebook or JupyterLab Notebook, it may mean\n",
       "  that the widgets JavaScript is still loading. If this message persists, it\n",
       "  likely means that the widgets JavaScript library is either not installed or\n",
       "  not enabled. See the <a href=\"https://ipywidgets.readthedocs.io/en/stable/user_install.html\">Jupyter\n",
       "  Widgets Documentation</a> for setup instructions.\n",
       "</p>\n",
       "<p>\n",
       "  If you're reading this message in another frontend (for example, a static\n",
       "  rendering on GitHub or <a href=\"https://nbviewer.jupyter.org/\">NBViewer</a>),\n",
       "  it may mean that your frontend doesn't currently support widgets.\n",
       "</p>\n"
      ],
      "text/plain": [
       "VBox(children=(HTML(value='<b> Timing of the FUS ON (min): </b>'), HTML(value='Enter the time when FUS is activated'), FloatText(value=20.0)))"
      ]
     },
     "metadata": {},
     "output_type": "display_data"
    }
   ],
   "source": [
    "#Main path for the data\n",
    "mainPath_html = ipywidgets.HTML(\n",
    "    value = \"<p><b>Path to the data of the experiment:</b><br />Enter the path to the folder (with '/' at the end) that is hierarchically right above the folders of the recording sessions</p>\"\n",
    ")\n",
    "\n",
    "mainPath_input = ipywidgets.Text(\n",
    "    value = \"\", \n",
    "    placeholder = \"Enter path for data\", \n",
    "    disabled = False\n",
    ")\n",
    "display(VBox([mainPath_html, mainPath_input]))\n",
    "\n",
    "#Group to analyze\n",
    "group_html = ipywidgets.RadioButtons(\n",
    "    options=['Group 0', 'Group 1'],\n",
    "    value='Group 0',\n",
    "    disabled=False\n",
    ")\n",
    "display(VBox([\n",
    "    ipywidgets.HTML(value = \"<b> Select a group to be analyzed: </b>\"), \n",
    "    group_html\n",
    "]))\n",
    "\n",
    "#Analysis method\n",
    "analysis_html = ipywidgets.RadioButtons(\n",
    "    options=['Electrode-wise', 'Unit-wise', 'Both'],\n",
    "    value='Electrode-wise',\n",
    "    disabled=False\n",
    ")\n",
    "display(VBox([\n",
    "    ipywidgets.HTML(value = \"<b> Analysis Method: </b>\"), \n",
    "    analysis_html\n",
    "]))\n",
    "\n",
    "\n",
    "#User specific window\n",
    "user_window_check_html = ipywidgets.Checkbox(\n",
    "    value=False,\n",
    "    description=\"Window PSTH Analysis\",\n",
    "    disabled=False\n",
    ")\n",
    "user_window_html = ipywidgets.IntRangeSlider(\n",
    "    value=[0, 180],\n",
    "    min=0,\n",
    "    max=180,\n",
    "    step=1,\n",
    "    disabled=False,\n",
    "    continuous_update=True,\n",
    "    orientation='horizontal',\n",
    "    readout=True,\n",
    "    readout_format='d',\n",
    ")\n",
    "display(VBox([\n",
    "    ipywidgets.HTML(value = \"<b> Specify a valid interval if you want to analyze a window as a whole: </b>\"),\n",
    "    ipywidgets.HTML(value = \"Check the below box if you want to do specific window PSTH Analysis:\"),\n",
    "    user_window_check_html,\n",
    "    ipywidgets.HTML(value = \"Select your interval by sliding the knobs:\"),\n",
    "    user_window_html\n",
    "]))\n",
    "\n",
    "#Spike decision\n",
    "decision_html = ipywidgets.RadioButtons(\n",
    "    options=['All', 'Only good'],\n",
    "    value='All',\n",
    "    disabled=False\n",
    ")\n",
    "display(VBox([\n",
    "    ipywidgets.HTML(value = \"<b> Select whether analyze all spikes or those which are clustered under 'Good' in 'klustaviewa': </b>\"), \n",
    "    decision_html\n",
    "]))\n",
    "\n",
    "#Window duration\n",
    "window_duration_html = ipywidgets.IntSlider(\n",
    "    value=10,\n",
    "    min=1,\n",
    "    max=50,\n",
    "    step=1,\n",
    "    disabled=False,\n",
    "    orientation='horizontal',\n",
    "    readout=True,\n",
    "    readout_format='d'\n",
    ")\n",
    "display(VBox([\n",
    "    ipywidgets.HTML(value = \"<b> Window duration (min): </b>\"), \n",
    "    ipywidgets.HTML(value = \"Select duration of PSTH Analysis windows by sliding the knob.\"),\n",
    "    window_duration_html\n",
    "]))\n",
    "\n",
    "#Analysis interval before FUS\n",
    "pre_interval_html = ipywidgets.IntText(value = 20, disabled = False)\n",
    "display(VBox([\n",
    "    ipywidgets.HTML(value = \"<b> Pre interval (ms): </b>\"), \n",
    "    ipywidgets.HTML(value = \"Enter the duration of pre interval before a stimulus\"), \n",
    "    pre_interval_html\n",
    "]))\n",
    "\n",
    "\n",
    "#Analysis interval after FUS\n",
    "post_interval_html = ipywidgets.IntText(value = 80, disabled = False)\n",
    "display(VBox([\n",
    "    ipywidgets.HTML(value = \"<b> Post interval (ms): </b>\"), \n",
    "    ipywidgets.HTML(value = \"Enter the duration of post interval after a stimulus\"), \n",
    "    post_interval_html\n",
    "]))\n",
    "\n",
    "#Bin size \n",
    "bin_size_html = ipywidgets.FloatText(value = 1, disabled = False)\n",
    "display(VBox([\n",
    "    ipywidgets.HTML(value = \"<b> Bin size (ms): </b>\"), \n",
    "    ipywidgets.HTML(value = \"Enter size of the histogram bins that determines the width of the bars\"), \n",
    "    bin_size_html\n",
    "]))\n",
    "\n",
    "#FUS On time\n",
    "t_fus_on_html = ipywidgets.FloatText(value = 20, disabled = False)\n",
    "display(VBox([\n",
    "    ipywidgets.HTML(value = \"<b> Timing of the FUS ON (min): </b>\"), \n",
    "    ipywidgets.HTML(value = \"Enter the time when FUS is activated\"), \n",
    "    t_fus_on_html\n",
    "]))\n"
   ]
  },
  {
   "cell_type": "markdown",
   "metadata": {},
   "source": [
    "## 3) Initiate the PSTH Analysis\n",
    "Please run the block of the code in order to excute the PSTH algorithm based on the input that you have provided above."
   ]
  },
  {
   "cell_type": "code",
   "execution_count": 4,
   "metadata": {
    "scrolled": true
   },
   "outputs": [
    {
     "name": "stdout",
     "output_type": "stream",
     "text": [
      "Path to the data: /media/yaniklab/05d01d78-2bd6-4a4e-b573-df49ccacb71c/2018_04_12_FUSs1_EphysM1_E-FUS_NBBB67/\n",
      "Experiment id: NBBB67\n",
      "FUS activation: 25.0. minute\n",
      "\n",
      "Reading Stimulation Timestamps: /media/yaniklab/05d01d78-2bd6-4a4e-b573-df49ccacb71c/2018_04_12_FUSs1_EphysM1_E-FUS_NBBB67/FUS_Muscimol_180412_164651\n",
      "\n",
      "Reading Stimulation Timestamps: /media/yaniklab/05d01d78-2bd6-4a4e-b573-df49ccacb71c/2018_04_12_FUSs1_EphysM1_E-FUS_NBBB67/FUS_Muscimol_180412_174703\n",
      "\n",
      "Analyzing: /media/yaniklab/05d01d78-2bd6-4a4e-b573-df49ccacb71c/2018_04_12_FUSs1_EphysM1_E-FUS_NBBB67/\n",
      "\n",
      "\n",
      "Electrode-wise PSTH Analysis\n",
      "PSTH Analysis for electrode-0 is done\n",
      "PSTH Analysis for electrode-1 is done\n",
      "PSTH Analysis for electrode-2 is done\n",
      "PSTH Analysis for electrode-3 is done\n",
      "PSTH Analysis for electrode-4 is done\n",
      "PSTH Analysis for electrode-5 is done\n",
      "PSTH Analysis for electrode-6 is done\n",
      "PSTH Analysis for electrode-7 is done\n",
      "PSTH Analysis for electrode-8 is done\n",
      "PSTH Analysis for electrode-9 is done\n",
      "PSTH Analysis for electrode-10 is done\n",
      "PSTH Analysis for electrode-11 is done\n",
      "PSTH Analysis for electrode-12 is done\n",
      "PSTH Analysis for electrode-13 is done\n",
      "PSTH Analysis for electrode-14 is done\n",
      "PSTH Analysis for electrode-15 is done\n",
      "\n",
      "Generating electrode-wise PSTH graphs\n",
      "Finished: Electrode-0, Figure-1\n",
      "Finished: Electrode-0, Figure-2\n",
      "Finished: Electrode-0, Figure-3\n",
      "Finished: Electrode-1, Figure-1\n",
      "Finished: Electrode-1, Figure-2\n",
      "Finished: Electrode-1, Figure-3\n",
      "Finished: Electrode-2, Figure-1\n",
      "Finished: Electrode-2, Figure-2\n",
      "Finished: Electrode-2, Figure-3\n",
      "Finished: Electrode-3, Figure-1\n",
      "Finished: Electrode-3, Figure-2\n",
      "Finished: Electrode-3, Figure-3\n",
      "Finished: Electrode-4, Figure-1\n",
      "Finished: Electrode-4, Figure-2\n",
      "Finished: Electrode-4, Figure-3\n",
      "Finished: Electrode-5, Figure-1\n",
      "Finished: Electrode-5, Figure-2\n",
      "Finished: Electrode-5, Figure-3\n",
      "Finished: Electrode-6, Figure-1\n",
      "Finished: Electrode-6, Figure-2\n",
      "Finished: Electrode-6, Figure-3\n",
      "Finished: Electrode-7, Figure-1\n",
      "Finished: Electrode-7, Figure-2\n",
      "Finished: Electrode-7, Figure-3\n",
      "Finished: Electrode-8, Figure-1\n",
      "Finished: Electrode-8, Figure-2\n",
      "Finished: Electrode-8, Figure-3\n",
      "Finished: Electrode-9, Figure-1\n",
      "Finished: Electrode-9, Figure-2\n",
      "Finished: Electrode-9, Figure-3\n",
      "Finished: Electrode-10, Figure-1\n",
      "Finished: Electrode-10, Figure-2\n",
      "Finished: Electrode-10, Figure-3\n",
      "Finished: Electrode-11, Figure-1\n",
      "Finished: Electrode-11, Figure-2\n",
      "Finished: Electrode-11, Figure-3\n",
      "Finished: Electrode-12, Figure-1\n",
      "Finished: Electrode-12, Figure-2\n",
      "Finished: Electrode-12, Figure-3\n",
      "Finished: Electrode-13, Figure-1\n",
      "Finished: Electrode-13, Figure-2\n",
      "Finished: Electrode-13, Figure-3\n",
      "Finished: Electrode-14, Figure-1\n",
      "Finished: Electrode-14, Figure-2\n",
      "Finished: Electrode-14, Figure-3\n",
      "Finished: Electrode-15, Figure-1\n",
      "Finished: Electrode-15, Figure-2\n",
      "Finished: Electrode-15, Figure-3\n",
      "\n",
      "PSTH Analysis is completed succesfully.\n"
     ]
    }
   ],
   "source": [
    "psthParameters = {} #Create a dictionary for storing PSTH parameters to pass to function\n",
    "psthParameters['mainPath'] = str(mainPath_input.value)\n",
    "print(\"Path to the data: {0}\".format(psthParameters['mainPath']))\n",
    "psthParameters['experiment_id'] = psthParameters['mainPath'].rpartition('_')[2].replace('/','')\n",
    "print(\"Experiment id: {0}\".format(psthParameters['experiment_id']))\n",
    "if(str(group_html.value) == 'Group 0'):\n",
    "    psthParameters['group'] = 0\n",
    "else:\n",
    "    psthParameters['group'] = 1\n",
    "\n",
    "if(str(analysis_html.value) == 'Electrode-wise'):\n",
    "    psthParameters['psth_all_electrodes'] = True\n",
    "    psthParameters['psth_all_units'] = False\n",
    "elif(str(analysis_html.value) == 'Unit-wise'):\n",
    "    psthParameters['psth_all_electrodes'] = False\n",
    "    psthParameters['psth_all_units'] = True\n",
    "else:\n",
    "    psthParameters['psth_all_electrodes'] = True\n",
    "    psthParameters['psth_all_units'] = True\n",
    "\n",
    "if(bool(user_window_check_html.value) == True):\n",
    "    psthParameters['user_window'] = [True, int(user_window_html.value[0]), int(user_window_html.value[1])]\n",
    "else:\n",
    "    psthParameters['user_window'] = [False, 0, 0]\n",
    "\n",
    "if(str(decision_html.value) == 'All'):\n",
    "    psthParameters['decision'] = 'all'\n",
    "else:\n",
    "    psthParameters['decision'] = 'only_good'\n",
    "\n",
    "psthParameters['window_duration'] = int(window_duration_html.value)\n",
    "psthParameters['pre_interval_ms'] = float(pre_interval_html.value)\n",
    "psthParameters['post_interval_ms'] = float(post_interval_html.value)\n",
    "psthParameters['bin_size_ms'] = float(bin_size_html.value)\n",
    "psthParameters['t_fus_on'] = float(t_fus_on_html.value)\n",
    "print('FUS activation: {0}. minute\\n'.format(psthParameters['t_fus_on']))\n",
    "\n",
    "psth_analysis(psthParameters)"
   ]
  },
  {
   "cell_type": "markdown",
   "metadata": {},
   "source": [
    "# Done!\n",
    "Please wait until \"PSTH Analysis is completed succesfully.\" is printed at the end of the above cell.\n",
    "\n",
    "Notebook written by Abdulkadir Gokce in 07/2018. Please contact him or Mehmet Ozdas in case of any questions."
   ]
  }
 ],
 "metadata": {
  "kernelspec": {
   "display_name": "Python 3",
   "language": "python",
   "name": "python3"
  },
  "language_info": {
   "codemirror_mode": {
    "name": "ipython",
    "version": 3
   },
   "file_extension": ".py",
   "mimetype": "text/x-python",
   "name": "python",
   "nbconvert_exporter": "python",
   "pygments_lexer": "ipython3",
   "version": "3.5.4"
  }
 },
 "nbformat": 4,
 "nbformat_minor": 2
}
