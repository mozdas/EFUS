{
 "cells": [
  {
   "cell_type": "markdown",
   "metadata": {},
   "source": [
    "# LFP Analysis Pipeline"
   ]
  },
  {
   "cell_type": "markdown",
   "metadata": {},
   "source": [
    "This notebook runs through the process of stimulus evoked LFP analysis step by step to the end figures. Please follow the upcoming steps to successfully analyze your data. "
   ]
  },
  {
   "cell_type": "markdown",
   "metadata": {},
   "source": [
    "## 1) Copy your data from HDD to SSD \n",
    "\n",
    "First things first! Before any data analysis, we need to <b>copy the data from the hard drive where the raw data is stored to the 1 TB SSD on this computer that is designated as the workspace</b>. This is asked for two reasons: \n",
    "\n",
    "<ol type=\"1\">\n",
    "<li>There is a remarkable difference between the speed of reading data from the HDD vs. SSD</li>\n",
    "<li>There are some by-products of the data analysis that should be deleted at the end of the analysis. If these files are stored in the HDD, Dropbox tries to synchonize all those files as well. And also some times these files are forgotten to be deleted and end up taking precious space on the HDD where more novel, raw data could have been stored.</li>\n",
    "</ol>\n",
    "\n",
    "<b> IF </b> you have completed this step, please continue with the following steps."
   ]
  },
  {
   "cell_type": "markdown",
   "metadata": {},
   "source": [
    "## 2) Generate parameter dictionary for all recording sessions\n",
    "\n",
    "Next, we will need to generate pickle files named <i> paramsDict.p </i> for each recording session in your experiment. These pickle files contain crucial parameters related to data acquisition and your preferences on the details of how the data should be analyzed. For this procedure, please <b> run the block below </b> to launch the Jupyter notebook (Python 3) for generating the parameter dictionary. "
   ]
  },
  {
   "cell_type": "code",
   "execution_count": null,
   "metadata": {},
   "outputs": [],
   "source": [
    "source activate klusta #Activating the klustakwik virtual environment\n",
    "jupyter notebook './Generate_dict_for_experiment.ipynb'\n"
   ]
  },
  {
   "cell_type": "markdown",
   "metadata": {},
   "source": [
    "##  2.5) Restart kernel\n",
    "\n",
    "Since no bash or python command to this date exists for properly closing a jupyter notebook, from the <i> Kernel </i> tab above, select <i> Restart & Clear Output </i> to restart the kernel. That will not be an issue since the <i> paramsDict.p </i> files are already generated and saved."
   ]
  },
  {
   "cell_type": "markdown",
   "metadata": {},
   "source": [
    "## 3) Run the main analysis function on the data \n",
    "\n",
    "We are ready to perform the analysis on the data. Please first <b> specify the path (with / at the end) </b> to the folder that contains the folders for all recprding sessions (i.e. the folder right above the folders of recording sessions in hierarchy) and then <b> run the following line of code </b> to run the script <i> analyze_all_recording_sessions.py </i> which will run the <i> main </i> function in the <i> main_tetrode.py </i>. You can check the scripts for the details of the steps running on the background. "
   ]
  },
  {
   "cell_type": "code",
   "execution_count": 39,
   "metadata": {
    "scrolled": true
   },
   "outputs": [
    {
     "name": "stdout",
     "output_type": "stream",
     "text": [
      "Currently analyzing:/media/yaniklab/05d01d78-2bd6-4a4e-b573-df49ccacb71c/test_1234567/stim_0_3Hz_180419_134719\n",
      "start reading out and analyzing trodes\n",
      "Start time: 2018-07-16 12:04:52.814685\n",
      "  0%|                                                     | 0/2 [00:00<?, ?it/s]\n",
      "Reading Intan Technologies RHD2000 Data File, Version 1.5\n",
      "\n",
      "Found 32 amplifier channels.\n",
      "Found 3 auxiliary input channels.\n",
      "Found 1 supply voltage channel.\n",
      "Found 8 board ADC channels.\n",
      "Found 16 board digital input channels.\n",
      "Found 0 board digital output channels.\n",
      "Found 0 temperature sensors channels.\n",
      "\n",
      "Header file contains no data.  Amplifiers were sampled at 30.00 kS/s.\n",
      "Done!  Elapsed time: 0.0 seconds\n",
      "#### Low-pass filtering the data ####\n",
      "\n",
      "  0%|                                                   | 0/355 [00:00<?, ?it/s]\u001b[A\n",
      "100%|███████████████████████████████████████| 355/355 [00:00<00:00, 6447.44it/s]\u001b[A(355, 16, 3750)\n",
      "(16, 257, 37)\n",
      "[[[  5.00023043e-06   2.45442905e-07   2.39007205e-07 ...,   1.96291520e-05\n",
      "     4.34198851e-06   7.53214945e-06]\n",
      "  [  1.28593249e-04   4.31406550e-05   2.47720254e-04 ...,   1.73446943e-04\n",
      "     2.79797231e-05   2.19557026e-05]\n",
      "  [  3.82916462e-04   1.41120330e-04   7.56767742e-04 ...,   4.33638587e-04\n",
      "     7.14240717e-05   4.54348982e-05]\n",
      "  ..., \n",
      "  [  1.39345901e-16   4.05105856e-16   4.79833556e-17 ...,   1.36654371e-14\n",
      "     2.52999536e-16   2.48808461e-16]\n",
      "  [  7.12241664e-17   2.81277010e-16   2.47092407e-16 ...,   1.15201231e-14\n",
      "     4.81091301e-16   4.32983969e-16]\n",
      "  [  6.32795138e-17   1.42196894e-16   1.94976526e-16 ...,   2.73445235e-15\n",
      "     6.12245018e-16   6.86059039e-16]]\n",
      "\n",
      " [[  4.99241745e-06   1.92020223e-05   1.93240402e-05 ...,   2.69296473e-05\n",
      "     1.74971777e-06   5.38616909e-06]\n",
      "  [  1.14298094e-04   1.49332148e-04   1.07762126e-04 ...,   3.33782620e-04\n",
      "     1.15540072e-04   3.03775285e-04]\n",
      "  [  3.24888721e-04   3.90730994e-04   2.67363862e-04 ...,   9.01326461e-04\n",
      "     3.50901028e-04   9.04884300e-04]\n",
      "  ..., \n",
      "  [  9.49651779e-16   5.48013660e-16   7.01011742e-16 ...,   1.18722119e-14\n",
      "     1.26482066e-16   8.01024594e-16]\n",
      "  [  2.68578838e-15   1.90336713e-15   1.86780491e-15 ...,   1.09202301e-14\n",
      "     1.41536419e-17   1.29808898e-15]\n",
      "  [  2.11793667e-15   2.55200541e-15   2.63084736e-15 ...,   2.80724763e-15\n",
      "     1.75306609e-18   4.55093522e-16]]\n",
      "\n",
      " [[  9.74385343e-06   1.32043673e-05   2.29676504e-05 ...,   1.04221241e-05\n",
      "     1.83301588e-06   2.86093367e-06]\n",
      "  [  3.57336455e-05   8.09198193e-05   6.93549853e-05 ...,   2.43467296e-04\n",
      "     6.69285611e-06   7.85087002e-06]\n",
      "  [  7.47215645e-05   1.99584905e-04   1.51961781e-04 ...,   6.90656895e-04\n",
      "     1.66254254e-05   1.47992094e-05]\n",
      "  ..., \n",
      "  [  2.60637162e-16   3.38733650e-16   8.54436453e-16 ...,   5.25470330e-15\n",
      "     1.42651870e-16   1.17067428e-16]\n",
      "  [  2.03718896e-15   1.78665320e-15   7.12545371e-16 ...,   4.89943064e-15\n",
      "     6.70278953e-17   3.68496292e-16]\n",
      "  [  2.54827691e-15   2.34531345e-15   1.31591323e-15 ...,   7.61896148e-16\n",
      "     7.06948296e-17   4.76151145e-16]]\n",
      "\n",
      " ..., \n",
      " [[  3.81739418e-06   3.24262729e-06   1.85459518e-06 ...,   4.80990336e-06\n",
      "     7.46572381e-07   2.69791906e-06]\n",
      "  [  7.78212230e-05   6.09463959e-05   4.93509187e-05 ...,   2.44964370e-04\n",
      "     5.61840100e-04   1.37898515e-04]\n",
      "  [  2.14058886e-04   1.76044408e-04   1.38955585e-04 ...,   7.03312175e-04\n",
      "     1.67961323e-03   3.96640665e-04]\n",
      "  ..., \n",
      "  [  1.80272203e-15   1.11549269e-15   1.08636632e-15 ...,   8.29645268e-15\n",
      "     2.30334947e-15   6.52989224e-15]\n",
      "  [  2.48934239e-15   9.30538645e-16   1.29805391e-15 ...,   6.87542550e-15\n",
      "     3.30865983e-15   5.13468116e-15]\n",
      "  [  1.11308169e-15   1.65926295e-16   4.35528301e-16 ...,   1.92823893e-16\n",
      "     2.74366255e-17   2.51373140e-16]]\n",
      "\n",
      " [[  1.20690373e-08   6.18707165e-07   4.73203411e-06 ...,   2.26302540e-06\n",
      "     7.09711628e-06   2.26145190e-06]\n",
      "  [  3.81196997e-05   2.01406764e-05   1.44310768e-05 ...,   4.18706725e-04\n",
      "     2.98261193e-04   1.07534626e-04]\n",
      "  [  1.12421526e-04   5.55719099e-05   2.79501847e-05 ...,   1.21206708e-03\n",
      "     8.57260283e-04   3.09220007e-04]\n",
      "  ..., \n",
      "  [  6.51541302e-16   2.02139002e-15   5.40877857e-16 ...,   1.51546256e-14\n",
      "     4.07168526e-15   3.53510361e-15]\n",
      "  [  6.18214561e-16   1.46892363e-15   6.96735071e-16 ...,   1.24841245e-14\n",
      "     4.34839188e-15   3.11001721e-15]\n",
      "  [  8.19448130e-19   7.38142820e-17   5.80713914e-16 ...,   5.22082378e-17\n",
      "     6.06919241e-16   4.00878808e-16]]\n",
      "\n",
      " [[  2.68371577e-07   3.20987537e-08   3.15634717e-06 ...,   5.00883862e-07\n",
      "     2.44507260e-06   5.55674395e-09]\n",
      "  [  3.42489037e-05   4.70954365e-07   5.58962386e-05 ...,   4.28804814e-04\n",
      "     2.06790683e-04   1.83234802e-04]\n",
      "  [  1.01563879e-04   2.07316159e-06   1.61856540e-04 ...,   1.25493463e-03\n",
      "     5.96361195e-04   5.38017313e-04]\n",
      "  ..., \n",
      "  [  6.17212786e-16   1.06606184e-15   9.04624162e-17 ...,   1.05496513e-14\n",
      "     6.24951820e-15   4.50865429e-15]\n",
      "  [  6.12734248e-16   5.98812917e-16   2.19764121e-16 ...,   9.31907065e-15\n",
      "     5.39424014e-15   4.04253187e-15]\n",
      "  [  3.46875432e-17   7.84578305e-18   2.98038533e-16 ...,   1.26635407e-17\n",
      "     1.79932636e-16   8.29141497e-17]]]\n",
      " 50%|██████████████████████▌                      | 1/2 [00:12<00:12, 12.81s/it]\n",
      "Reading Intan Technologies RHD2000 Data File, Version 1.5\n",
      "\n",
      "Found 32 amplifier channels.\n",
      "Found 3 auxiliary input channels.\n",
      "Found 1 supply voltage channel.\n",
      "Found 8 board ADC channels.\n",
      "Found 16 board digital input channels.\n",
      "Found 0 board digital output channels.\n",
      "Found 0 temperature sensors channels.\n",
      "\n",
      "Header file contains no data.  Amplifiers were sampled at 30.00 kS/s.\n",
      "Done!  Elapsed time: 0.0 seconds\n",
      "#### Low-pass filtering the data ####\n",
      "\n",
      "  0%|                                                   | 0/355 [00:00<?, ?it/s]\u001b[A\n",
      "100%|███████████████████████████████████████| 355/355 [00:00<00:00, 6705.93it/s]\u001b[A(355, 16, 3750)\n",
      "(16, 257, 37)\n",
      "[[[  1.55883551e-06   1.46288549e-05   2.78074773e-06 ...,   2.32181293e-06\n",
      "     5.87669177e-06   1.28369114e-06]\n",
      "  [  1.00682482e-04   2.84035702e-04   6.43436975e-05 ...,   1.11176251e-04\n",
      "     3.22339708e-04   1.76590430e-05]\n",
      "  [  2.90379068e-04   8.12225508e-04   1.85891165e-04 ...,   3.19804236e-04\n",
      "     9.56162550e-04   4.90767894e-05]\n",
      "  ..., \n",
      "  [  2.69482612e-15   1.48215197e-15   1.11255564e-16 ...,   3.73649536e-15\n",
      "     3.06722986e-16   3.98100001e-17]\n",
      "  [  3.15012180e-15   2.10994135e-15   4.92431355e-16 ...,   3.10796444e-15\n",
      "     9.56643689e-16   6.37901660e-17]\n",
      "  [  1.03978714e-15   9.82927367e-16   4.92814614e-16 ...,   3.53768002e-17\n",
      "     4.42534488e-16   7.02455719e-17]]\n",
      "\n",
      " [[  3.48366254e-06   1.10304979e-05   4.57673499e-06 ...,   1.66316609e-06\n",
      "     3.65958818e-06   1.68051561e-06]\n",
      "  [  7.15934948e-05   9.04121595e-04   6.31649197e-05 ...,   4.42768046e-05\n",
      "     1.30314611e-04   1.41786935e-05]\n",
      "  [  2.01813400e-04   2.70220148e-03   1.68707581e-04 ...,   1.21727033e-04\n",
      "     3.84273125e-04   3.82875691e-05]\n",
      "  ..., \n",
      "  [  1.08366235e-15   2.30172355e-15   2.45565736e-15 ...,   3.23915353e-15\n",
      "     9.31968069e-17   2.18350536e-16]\n",
      "  [  2.75505028e-15   3.79249640e-15   2.64145815e-15 ...,   2.41720580e-15\n",
      "     4.62513871e-16   1.51729936e-16]\n",
      "  [  2.09984259e-15   3.86605926e-16   9.91262940e-16 ...,   7.74525552e-17\n",
      "     4.36786501e-16   3.29758969e-17]]\n",
      "\n",
      " [[  9.73658568e-06   9.81408616e-06   5.42179225e-07 ...,   4.21448792e-06\n",
      "     3.41393751e-05   1.49342414e-06]\n",
      "  [  1.35470934e-04   4.91840607e-04   2.63181629e-05 ...,   7.29063145e-04\n",
      "     5.22262668e-04   4.77837900e-04]\n",
      "  [  3.70202579e-04   1.43740105e-03   7.65445055e-05 ...,   2.10076364e-03\n",
      "     1.45652190e-03   1.44165522e-03]\n",
      "  ..., \n",
      "  [  1.33723833e-15   5.65976051e-15   3.74756256e-16 ...,   3.35919399e-14\n",
      "     6.95347842e-15   7.28460364e-16]\n",
      "  [  3.65075953e-15   5.89722490e-15   3.52036734e-16 ...,   2.66015835e-14\n",
      "     6.96914745e-15   1.96748687e-15]\n",
      "  [  3.18835388e-15   4.98305008e-16   4.01162591e-18 ...,   2.81680093e-17\n",
      "     1.80447926e-15   6.39855081e-16]]\n",
      "\n",
      " ..., \n",
      " [[  2.01611761e-07   1.02613451e-06   9.92732036e-07 ...,   1.39068447e-07\n",
      "     1.38022949e-05   6.52256893e-06]\n",
      "  [  1.43718094e-05   7.28775107e-06   1.45338493e-04 ...,   2.84847536e-04\n",
      "     2.81155390e-04   2.42614706e-05]\n",
      "  [  4.36428777e-05   1.98830595e-05   4.36381549e-04 ...,   8.43596536e-04\n",
      "     8.02592537e-04   5.65473158e-05]\n"
     ]
    },
    {
     "name": "stdout",
     "output_type": "stream",
     "text": [
      "  ..., \n",
      "  [  3.41878540e-17   4.35044707e-17   3.10757525e-16 ...,   6.32904643e-15\n",
      "     6.81972366e-16   2.30795942e-16]\n",
      "  [  3.50292236e-16   1.88116978e-17   8.05062984e-16 ...,   5.83804805e-15\n",
      "     1.72748883e-15   2.05886991e-16]\n",
      "  [  3.60013873e-16   1.26489936e-17   3.47750181e-16 ...,   1.88465324e-16\n",
      "     1.42318905e-15   3.60707059e-16]]\n",
      "\n",
      " [[  4.10397375e-07   8.74564898e-07   4.48546430e-07 ...,   2.28149284e-06\n",
      "     1.36870338e-06   7.75202897e-07]\n",
      "  [  3.23915589e-05   3.42303640e-06   1.29038855e-05 ...,   3.35747030e-04\n",
      "     1.02199445e-04   1.71810965e-05]\n",
      "  [  9.85296502e-05   9.96592631e-06   3.97008324e-05 ...,   9.88330152e-04\n",
      "     2.98331496e-04   4.88638431e-05]\n",
      "  ..., \n",
      "  [  4.54295670e-16   9.00332423e-16   4.82651836e-16 ...,   6.46972110e-15\n",
      "     1.06377617e-15   5.72279819e-16]\n",
      "  [  6.16544196e-16   5.29580498e-16   2.40929451e-16 ...,   6.08447623e-15\n",
      "     1.24474795e-15   4.35517342e-16]\n",
      "  [  1.51030319e-16   9.00038416e-18   7.72134249e-17 ...,   2.27552093e-16\n",
      "     1.76766952e-16   3.90479761e-18]]\n",
      "\n",
      " [[  3.11153339e-06   6.50324334e-07   2.34161564e-07 ...,   1.95389194e-06\n",
      "     1.88778730e-06   7.63520912e-08]\n",
      "  [  2.41280910e-05   7.14998938e-06   9.16487814e-06 ...,   7.38170466e-04\n",
      "     3.51995129e-04   1.22038928e-04]\n",
      "  [  6.61087908e-05   1.76451676e-05   2.67576379e-05 ...,   2.17692426e-03\n",
      "     1.03361190e-03   3.56959388e-04]\n",
      "  ..., \n",
      "  [  6.94643750e-16   1.13174321e-15   1.48503626e-16 ...,   1.14562564e-14\n",
      "     5.63154232e-15   5.25174474e-15]\n",
      "  [  4.70302047e-16   8.78337195e-16   1.34671725e-16 ...,   1.10927283e-14\n",
      "     5.59147801e-15   4.24482575e-15]\n",
      "  [  9.69292755e-17   1.40387321e-16   2.42441034e-18 ...,   3.53272990e-17\n",
      "     2.31583614e-16   9.14143773e-17]]]\n",
      "100%|█████████████████████████████████████████████| 2/2 [00:25<00:00, 12.95s/it]\n",
      "Finish time: 2018-07-16 12:05:18.707890\n"
     ]
    }
   ],
   "source": [
    "#Specify the path here!\n",
    "PATHEXP=\"/media/yaniklab/05d01d78-2bd6-4a4e-b573-df49ccacb71c/test_1234567/\" #with / at the end\n",
    "echo $PATHEXP|python analyze_all_recording_sessions.py"
   ]
  },
  {
   "cell_type": "markdown",
   "metadata": {},
   "source": [
    "## 4) Generate the figures and extract results\n",
    "\n",
    "As we have extracted the evoked LFP waveforms (and optionally ran the klusta, in case you enabled the spike sorting for this analysis), now we are ready to generate figures and  extract results for this experiment. These steps will be performed in the <i> evoked_lfp_analysis.py </i> script. Please <b> run the following line </b> to perform this step."
   ]
  },
  {
   "cell_type": "code",
   "execution_count": null,
   "metadata": {
    "scrolled": false
   },
   "outputs": [],
   "source": [
    "PATHEXP=\"/media/yaniklab/05d01d78-2bd6-4a4e-b573-df49ccacb71c/2018_04_13_FUSs1_EphysM1_E-FUS_NBBB68/\" #with / at the end\n",
    "\n",
    "echo $PATHEXP|python LFPutils/evoked_lfp_analysis.py"
   ]
  },
  {
   "cell_type": "markdown",
   "metadata": {},
   "source": [
    " # 5) Automatized window LFP analysis (optional)\n",
    " \n",
    " If there is any recording session that you would like to analyze as broken down into time windows, please run the following block to open the ipython notebook for analyzing evoked LFP data in time windows. "
   ]
  },
  {
   "cell_type": "code",
   "execution_count": null,
   "metadata": {
    "scrolled": true
   },
   "outputs": [],
   "source": [
    "jupyter notebook './Automated_window_time_analysis.ipynb'\n"
   ]
  },
  {
   "cell_type": "markdown",
   "metadata": {},
   "source": [
    "# Done! \n",
    "\n",
    "You can check the <i> Analyzed </i> folder to see the plots and the excel sheets containing the evoked LFP data and <b> move the files and folders </b> that you deem necessary into the <i> Analyzed </i> folder inside the <i> Electrophysiology </i> Dropbox folder. Please do not forget to rename the folder with the date and the name of the experiment when adding to the <i> Analyzed </i> folder. At the end, please <b> delete the data and the intermediate files from the SSD. </b> \n",
    "\n",
    "Notebook written by Baran Yasar in 04/2017. Please contact him in person or via e-mail at yasar@biomed.ee.ethz.ch in case of any questions."
   ]
  }
 ],
 "metadata": {
  "kernelspec": {
   "display_name": "Bash",
   "language": "bash",
   "name": "bash"
  },
  "language_info": {
   "codemirror_mode": "shell",
   "file_extension": ".sh",
   "mimetype": "text/x-sh",
   "name": "bash"
  }
 },
 "nbformat": 4,
 "nbformat_minor": 2
}
