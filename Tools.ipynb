{
 "cells": [
  {
   "cell_type": "code",
   "execution_count": 3,
   "metadata": {},
   "outputs": [],
   "source": [
    "import ipywidgets\n",
    "from ipywidgets import VBox, HBox, Layout\n",
    "from IPython.display import display"
   ]
  },
  {
   "cell_type": "code",
   "execution_count": 5,
   "metadata": {},
   "outputs": [
    {
     "data": {
      "application/vnd.jupyter.widget-view+json": {
       "model_id": "7a25d754573f48eab62a85c5ce3dbc98",
       "version_major": 2,
       "version_minor": 0
      },
      "text/plain": [
       "VBox(children=(HTML(value=\"<b>Select a tool that you'd like to use:</b>\"), RadioButtons(options=('Cleanup the …"
      ]
     },
     "metadata": {},
     "output_type": "display_data"
    }
   ],
   "source": [
    "#Select a tool that you'd like to use\n",
    "\n",
    "tool_html = ipywidgets.RadioButtons(\n",
    "    options=['Cleanup the data folder', 'Frequency domain analyses', 'PSTH Merger'],\n",
    "    value='Cleanup the data folder',\n",
    "    disabled=False\n",
    ")\n",
    "display(VBox([\n",
    "    ipywidgets.HTML(\"<b>Select a tool that you'd like to use:</b>\"),\n",
    "    tool_html\n",
    "]))\n"
   ]
  },
  {
   "cell_type": "code",
   "execution_count": null,
   "metadata": {},
   "outputs": [],
   "source": [
    "if(str(tool_html.value) == 'Cleanup the data folder'):\n",
    "    main_path_html = ipywidgets..Text(\n",
    "    placeholder='Enter here the main path',\n",
    "    disabled=False\n",
    "    )\n",
    "    display(VBox([\n",
    "        ipywidgets.HTML(''),\n",
    "        main_path_html\n",
    "    ]))\n",
    "elif(str(tool_html.value) == 'Frequency domain analyses'):\n",
    "    "
   ]
  }
 ],
 "metadata": {
  "kernelspec": {
   "display_name": "Python 3",
   "language": "python",
   "name": "python3"
  },
  "language_info": {
   "codemirror_mode": {
    "name": "ipython",
    "version": 3
   },
   "file_extension": ".py",
   "mimetype": "text/x-python",
   "name": "python",
   "nbconvert_exporter": "python",
   "pygments_lexer": "ipython3",
   "version": "3.6.5"
  }
 },
 "nbformat": 4,
 "nbformat_minor": 2
}
